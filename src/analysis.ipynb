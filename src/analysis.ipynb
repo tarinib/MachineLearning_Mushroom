{
 "cells": [
  {
   "cell_type": "code",
   "execution_count": 144,
   "metadata": {},
   "outputs": [],
   "source": [
    "import numpy as np\n",
    "import matplotlib.pyplot as plt\n",
    "import pandas as pd\n",
    "import seaborn as sns\n",
    "from sklearn.preprocessing import LabelEncoder\n",
    "from sklearn.tree import DecisionTreeClassifier\n",
    "from sklearn.model_selection import train_test_split, GridSearchCV\n",
    "from sklearn.metrics import accuracy_score\n",
    "from sklearn.ensemble import RandomForestClassifier\n",
    "from sklearn.linear_model import LogisticRegression\n",
    "from sklearn.svm import SVC\n",
    "from sklearn.neighbors import KNeighborsClassifier\n",
    "from sklearn.naive_bayes import GaussianNB\n",
    "from sklearn.manifold import TSNE\n",
    "from sklearn.tree import export_graphviz\n",
    "from sklearn.linear_model import Lasso,LassoCV, LogisticRegression, ElasticNet, Ridge, LinearRegression\n",
    "from sklearn.metrics import accuracy_score, mean_squared_error\n",
    "from sklearn.feature_selection import RFE\n",
    "import graphviz\n",
    "sns.set(color_codes=True)\n",
    "%matplotlib inline"
   ]
  },
  {
   "cell_type": "markdown",
   "metadata": {},
   "source": [
    "##### Loading data set"
   ]
  },
  {
   "cell_type": "code",
   "execution_count": 145,
   "metadata": {
    "collapsed": true
   },
   "outputs": [],
   "source": [
    "data = pd.read_csv('../data/mushroom_data.csv')"
   ]
  },
  {
   "cell_type": "markdown",
   "metadata": {},
   "source": [
    "##### Checking dimesnions"
   ]
  },
  {
   "cell_type": "code",
   "execution_count": 146,
   "metadata": {},
   "outputs": [
    {
     "data": {
      "text/plain": [
       "(8124, 23)"
      ]
     },
     "execution_count": 146,
     "metadata": {},
     "output_type": "execute_result"
    }
   ],
   "source": [
    "data.shape"
   ]
  },
  {
   "cell_type": "markdown",
   "metadata": {},
   "source": [
    "##### Exploratory Data Analysis"
   ]
  },
  {
   "cell_type": "markdown",
   "metadata": {},
   "source": [
    "##### Describing the loaded data set"
   ]
  },
  {
   "cell_type": "code",
   "execution_count": 147,
   "metadata": {},
   "outputs": [
    {
     "data": {
      "text/html": [
       "<div>\n",
       "<style scoped>\n",
       "    .dataframe tbody tr th:only-of-type {\n",
       "        vertical-align: middle;\n",
       "    }\n",
       "\n",
       "    .dataframe tbody tr th {\n",
       "        vertical-align: top;\n",
       "    }\n",
       "\n",
       "    .dataframe thead th {\n",
       "        text-align: right;\n",
       "    }\n",
       "</style>\n",
       "<table border=\"1\" class=\"dataframe\">\n",
       "  <thead>\n",
       "    <tr style=\"text-align: right;\">\n",
       "      <th></th>\n",
       "      <th>class</th>\n",
       "      <th>cap_shape</th>\n",
       "      <th>cap_surface</th>\n",
       "      <th>cap_color</th>\n",
       "      <th>bruises</th>\n",
       "      <th>odor</th>\n",
       "      <th>gill_attachment</th>\n",
       "      <th>gill_spacing</th>\n",
       "      <th>gill_size</th>\n",
       "      <th>gill_color</th>\n",
       "      <th>...</th>\n",
       "      <th>stalk_surface-below-ring</th>\n",
       "      <th>stalk_color-above-ring</th>\n",
       "      <th>stalk_color-below-ring</th>\n",
       "      <th>veil_type</th>\n",
       "      <th>veil_color</th>\n",
       "      <th>ring_number</th>\n",
       "      <th>ring_type</th>\n",
       "      <th>spore_print-color</th>\n",
       "      <th>population</th>\n",
       "      <th>habitat</th>\n",
       "    </tr>\n",
       "  </thead>\n",
       "  <tbody>\n",
       "    <tr>\n",
       "      <th>count</th>\n",
       "      <td>8124</td>\n",
       "      <td>8124</td>\n",
       "      <td>8124</td>\n",
       "      <td>8124</td>\n",
       "      <td>8124</td>\n",
       "      <td>8124</td>\n",
       "      <td>8124</td>\n",
       "      <td>8124</td>\n",
       "      <td>8124</td>\n",
       "      <td>8124</td>\n",
       "      <td>...</td>\n",
       "      <td>8124</td>\n",
       "      <td>8124</td>\n",
       "      <td>8124</td>\n",
       "      <td>8124</td>\n",
       "      <td>8124</td>\n",
       "      <td>8124</td>\n",
       "      <td>8124</td>\n",
       "      <td>8124</td>\n",
       "      <td>8124</td>\n",
       "      <td>8124</td>\n",
       "    </tr>\n",
       "    <tr>\n",
       "      <th>unique</th>\n",
       "      <td>2</td>\n",
       "      <td>6</td>\n",
       "      <td>4</td>\n",
       "      <td>10</td>\n",
       "      <td>2</td>\n",
       "      <td>9</td>\n",
       "      <td>2</td>\n",
       "      <td>2</td>\n",
       "      <td>2</td>\n",
       "      <td>12</td>\n",
       "      <td>...</td>\n",
       "      <td>4</td>\n",
       "      <td>9</td>\n",
       "      <td>9</td>\n",
       "      <td>1</td>\n",
       "      <td>4</td>\n",
       "      <td>3</td>\n",
       "      <td>5</td>\n",
       "      <td>9</td>\n",
       "      <td>6</td>\n",
       "      <td>7</td>\n",
       "    </tr>\n",
       "    <tr>\n",
       "      <th>top</th>\n",
       "      <td>e</td>\n",
       "      <td>x</td>\n",
       "      <td>y</td>\n",
       "      <td>n</td>\n",
       "      <td>f</td>\n",
       "      <td>n</td>\n",
       "      <td>f</td>\n",
       "      <td>c</td>\n",
       "      <td>b</td>\n",
       "      <td>b</td>\n",
       "      <td>...</td>\n",
       "      <td>s</td>\n",
       "      <td>w</td>\n",
       "      <td>w</td>\n",
       "      <td>p</td>\n",
       "      <td>w</td>\n",
       "      <td>o</td>\n",
       "      <td>p</td>\n",
       "      <td>w</td>\n",
       "      <td>v</td>\n",
       "      <td>d</td>\n",
       "    </tr>\n",
       "    <tr>\n",
       "      <th>freq</th>\n",
       "      <td>4208</td>\n",
       "      <td>3656</td>\n",
       "      <td>3244</td>\n",
       "      <td>2284</td>\n",
       "      <td>4748</td>\n",
       "      <td>3528</td>\n",
       "      <td>7914</td>\n",
       "      <td>6812</td>\n",
       "      <td>5612</td>\n",
       "      <td>1728</td>\n",
       "      <td>...</td>\n",
       "      <td>4936</td>\n",
       "      <td>4464</td>\n",
       "      <td>4384</td>\n",
       "      <td>8124</td>\n",
       "      <td>7924</td>\n",
       "      <td>7488</td>\n",
       "      <td>3968</td>\n",
       "      <td>2388</td>\n",
       "      <td>4040</td>\n",
       "      <td>3148</td>\n",
       "    </tr>\n",
       "  </tbody>\n",
       "</table>\n",
       "<p>4 rows × 23 columns</p>\n",
       "</div>"
      ],
      "text/plain": [
       "       class cap_shape cap_surface cap_color bruises  odor gill_attachment  \\\n",
       "count   8124      8124        8124      8124    8124  8124            8124   \n",
       "unique     2         6           4        10       2     9               2   \n",
       "top        e         x           y         n       f     n               f   \n",
       "freq    4208      3656        3244      2284    4748  3528            7914   \n",
       "\n",
       "       gill_spacing gill_size gill_color   ...   stalk_surface-below-ring  \\\n",
       "count          8124      8124       8124   ...                       8124   \n",
       "unique            2         2         12   ...                          4   \n",
       "top               c         b          b   ...                          s   \n",
       "freq           6812      5612       1728   ...                       4936   \n",
       "\n",
       "       stalk_color-above-ring stalk_color-below-ring veil_type veil_color  \\\n",
       "count                    8124                   8124      8124       8124   \n",
       "unique                      9                      9         1          4   \n",
       "top                         w                      w         p          w   \n",
       "freq                     4464                   4384      8124       7924   \n",
       "\n",
       "       ring_number ring_type spore_print-color population habitat  \n",
       "count         8124      8124              8124       8124    8124  \n",
       "unique           3         5                 9          6       7  \n",
       "top              o         p                 w          v       d  \n",
       "freq          7488      3968              2388       4040    3148  \n",
       "\n",
       "[4 rows x 23 columns]"
      ]
     },
     "execution_count": 147,
     "metadata": {},
     "output_type": "execute_result"
    }
   ],
   "source": [
    "data.describe()"
   ]
  },
  {
   "cell_type": "code",
   "execution_count": 148,
   "metadata": {},
   "outputs": [
    {
     "data": {
      "text/html": [
       "<div>\n",
       "<style scoped>\n",
       "    .dataframe tbody tr th:only-of-type {\n",
       "        vertical-align: middle;\n",
       "    }\n",
       "\n",
       "    .dataframe tbody tr th {\n",
       "        vertical-align: top;\n",
       "    }\n",
       "\n",
       "    .dataframe thead th {\n",
       "        text-align: right;\n",
       "    }\n",
       "</style>\n",
       "<table border=\"1\" class=\"dataframe\">\n",
       "  <thead>\n",
       "    <tr style=\"text-align: right;\">\n",
       "      <th></th>\n",
       "      <th>class</th>\n",
       "      <th>cap_shape</th>\n",
       "      <th>cap_surface</th>\n",
       "      <th>cap_color</th>\n",
       "      <th>bruises</th>\n",
       "      <th>odor</th>\n",
       "      <th>gill_attachment</th>\n",
       "      <th>gill_spacing</th>\n",
       "      <th>gill_size</th>\n",
       "      <th>gill_color</th>\n",
       "      <th>...</th>\n",
       "      <th>stalk_surface-below-ring</th>\n",
       "      <th>stalk_color-above-ring</th>\n",
       "      <th>stalk_color-below-ring</th>\n",
       "      <th>veil_type</th>\n",
       "      <th>veil_color</th>\n",
       "      <th>ring_number</th>\n",
       "      <th>ring_type</th>\n",
       "      <th>spore_print-color</th>\n",
       "      <th>population</th>\n",
       "      <th>habitat</th>\n",
       "    </tr>\n",
       "  </thead>\n",
       "  <tbody>\n",
       "    <tr>\n",
       "      <th>0</th>\n",
       "      <td>p</td>\n",
       "      <td>x</td>\n",
       "      <td>s</td>\n",
       "      <td>n</td>\n",
       "      <td>t</td>\n",
       "      <td>p</td>\n",
       "      <td>f</td>\n",
       "      <td>c</td>\n",
       "      <td>n</td>\n",
       "      <td>k</td>\n",
       "      <td>...</td>\n",
       "      <td>s</td>\n",
       "      <td>w</td>\n",
       "      <td>w</td>\n",
       "      <td>p</td>\n",
       "      <td>w</td>\n",
       "      <td>o</td>\n",
       "      <td>p</td>\n",
       "      <td>k</td>\n",
       "      <td>s</td>\n",
       "      <td>u</td>\n",
       "    </tr>\n",
       "    <tr>\n",
       "      <th>1</th>\n",
       "      <td>e</td>\n",
       "      <td>x</td>\n",
       "      <td>s</td>\n",
       "      <td>y</td>\n",
       "      <td>t</td>\n",
       "      <td>a</td>\n",
       "      <td>f</td>\n",
       "      <td>c</td>\n",
       "      <td>b</td>\n",
       "      <td>k</td>\n",
       "      <td>...</td>\n",
       "      <td>s</td>\n",
       "      <td>w</td>\n",
       "      <td>w</td>\n",
       "      <td>p</td>\n",
       "      <td>w</td>\n",
       "      <td>o</td>\n",
       "      <td>p</td>\n",
       "      <td>n</td>\n",
       "      <td>n</td>\n",
       "      <td>g</td>\n",
       "    </tr>\n",
       "    <tr>\n",
       "      <th>2</th>\n",
       "      <td>e</td>\n",
       "      <td>b</td>\n",
       "      <td>s</td>\n",
       "      <td>w</td>\n",
       "      <td>t</td>\n",
       "      <td>l</td>\n",
       "      <td>f</td>\n",
       "      <td>c</td>\n",
       "      <td>b</td>\n",
       "      <td>n</td>\n",
       "      <td>...</td>\n",
       "      <td>s</td>\n",
       "      <td>w</td>\n",
       "      <td>w</td>\n",
       "      <td>p</td>\n",
       "      <td>w</td>\n",
       "      <td>o</td>\n",
       "      <td>p</td>\n",
       "      <td>n</td>\n",
       "      <td>n</td>\n",
       "      <td>m</td>\n",
       "    </tr>\n",
       "    <tr>\n",
       "      <th>3</th>\n",
       "      <td>p</td>\n",
       "      <td>x</td>\n",
       "      <td>y</td>\n",
       "      <td>w</td>\n",
       "      <td>t</td>\n",
       "      <td>p</td>\n",
       "      <td>f</td>\n",
       "      <td>c</td>\n",
       "      <td>n</td>\n",
       "      <td>n</td>\n",
       "      <td>...</td>\n",
       "      <td>s</td>\n",
       "      <td>w</td>\n",
       "      <td>w</td>\n",
       "      <td>p</td>\n",
       "      <td>w</td>\n",
       "      <td>o</td>\n",
       "      <td>p</td>\n",
       "      <td>k</td>\n",
       "      <td>s</td>\n",
       "      <td>u</td>\n",
       "    </tr>\n",
       "    <tr>\n",
       "      <th>4</th>\n",
       "      <td>e</td>\n",
       "      <td>x</td>\n",
       "      <td>s</td>\n",
       "      <td>g</td>\n",
       "      <td>f</td>\n",
       "      <td>n</td>\n",
       "      <td>f</td>\n",
       "      <td>w</td>\n",
       "      <td>b</td>\n",
       "      <td>k</td>\n",
       "      <td>...</td>\n",
       "      <td>s</td>\n",
       "      <td>w</td>\n",
       "      <td>w</td>\n",
       "      <td>p</td>\n",
       "      <td>w</td>\n",
       "      <td>o</td>\n",
       "      <td>e</td>\n",
       "      <td>n</td>\n",
       "      <td>a</td>\n",
       "      <td>g</td>\n",
       "    </tr>\n",
       "  </tbody>\n",
       "</table>\n",
       "<p>5 rows × 23 columns</p>\n",
       "</div>"
      ],
      "text/plain": [
       "  class cap_shape cap_surface cap_color bruises odor gill_attachment  \\\n",
       "0     p         x           s         n       t    p               f   \n",
       "1     e         x           s         y       t    a               f   \n",
       "2     e         b           s         w       t    l               f   \n",
       "3     p         x           y         w       t    p               f   \n",
       "4     e         x           s         g       f    n               f   \n",
       "\n",
       "  gill_spacing gill_size gill_color   ...   stalk_surface-below-ring  \\\n",
       "0            c         n          k   ...                          s   \n",
       "1            c         b          k   ...                          s   \n",
       "2            c         b          n   ...                          s   \n",
       "3            c         n          n   ...                          s   \n",
       "4            w         b          k   ...                          s   \n",
       "\n",
       "  stalk_color-above-ring stalk_color-below-ring veil_type veil_color  \\\n",
       "0                      w                      w         p          w   \n",
       "1                      w                      w         p          w   \n",
       "2                      w                      w         p          w   \n",
       "3                      w                      w         p          w   \n",
       "4                      w                      w         p          w   \n",
       "\n",
       "  ring_number ring_type spore_print-color population habitat  \n",
       "0           o         p                 k          s       u  \n",
       "1           o         p                 n          n       g  \n",
       "2           o         p                 n          n       m  \n",
       "3           o         p                 k          s       u  \n",
       "4           o         e                 n          a       g  \n",
       "\n",
       "[5 rows x 23 columns]"
      ]
     },
     "execution_count": 148,
     "metadata": {},
     "output_type": "execute_result"
    }
   ],
   "source": [
    "data.head()"
   ]
  },
  {
   "cell_type": "markdown",
   "metadata": {},
   "source": [
    "###### Drop column Stalk Root\n",
    "I decided to drop this column as this attribute has 2480 missing valuues, which is approximately 1/3 of total observations. I did some domain search and I think this factor is not that important in determining if a mushroom is edible or not."
   ]
  },
  {
   "cell_type": "code",
   "execution_count": 149,
   "metadata": {
    "collapsed": true
   },
   "outputs": [],
   "source": [
    "data=data.drop('stalk_root', axis=1)"
   ]
  },
  {
   "cell_type": "code",
   "execution_count": 150,
   "metadata": {
    "collapsed": true
   },
   "outputs": [],
   "source": [
    "data.columns = ['class_label' if x=='class' else x for x in data.columns]"
   ]
  },
  {
   "cell_type": "markdown",
   "metadata": {},
   "source": [
    "##### Data Visualization"
   ]
  },
  {
   "cell_type": "markdown",
   "metadata": {},
   "source": [
    "> Here I have plotted the data into a 3D space. The data points with similar features appear close to each other and the data points that have different features show up as more distant dots. It is clear that we have a clustered dataset."
   ]
  },
  {
   "cell_type": "code",
   "execution_count": 151,
   "metadata": {},
   "outputs": [
    {
     "data": {
      "image/png": "[encoded data removed]",
      "text/plain": [
       "<matplotlib.figure.Figure at 0x1158cc9b0>"
      ]
     },
     "metadata": {},
     "output_type": "display_data"
    },
    {
     "data": {
      "text/plain": [
       "<hypertools.datageometry.DataGeometry at 0x110961048>"
      ]
     },
     "execution_count": 151,
     "metadata": {},
     "output_type": "execute_result"
    }
   ],
   "source": [
    "import hypertools as hyp\n",
    "hyp.plot(data,'.', save_path='../results/dataviz_3d_clusters.png')"
   ]
  },
  {
   "cell_type": "markdown",
   "metadata": {},
   "source": [
    ">We recently learnt abour visualizing data using different methods, tSNE being one of them.It converts high dimensional Euclidean distances between data points into conditional probability representing similarities. I have used this approach below, coloring it my feature class_label, where 'p' is poisonous and 'e' is edible. "
   ]
  },
  {
   "cell_type": "code",
   "execution_count": 143,
   "metadata": {},
   "outputs": [
    {
     "data": {
      "image/png": "[encoded data removed]",
      "text/plain": [
       "<matplotlib.figure.Figure at 0x1143ebf28>"
      ]
     },
     "metadata": {},
     "output_type": "display_data"
    },
    {
     "data": {
      "text/plain": [
       "<hypertools.datageometry.DataGeometry at 0x11596cf28>"
      ]
     },
     "execution_count": 143,
     "metadata": {},
     "output_type": "execute_result"
    }
   ],
   "source": [
    "TSNE_model = TSNE(n_components=3)\n",
    "reduced_data_TSNE = TSNE_model.fit_transform(hyp.tools.df2mat(data))\n",
    "hyp.plot(reduced_data_TSNE,'.', group=data.class_label, legend=list(set(data.class_label)), save_path='../results/dataviz_tsne.png')"
   ]
  },
  {
   "cell_type": "markdown",
   "metadata": {},
   "source": [
    "Reference: http://blog.kaggle.com/2017/04/10/exploring-the-structure-of-high-dimensional-data-with-hypertools-in-kaggle-kernels/"
   ]
  },
  {
   "cell_type": "markdown",
   "metadata": {},
   "source": [
    "##### Encoding the labels \n",
    "All values in columns are of categorical nature. I am using label encoder to encode them into numerical values in order to prerare them for machine learning algorithms."
   ]
  },
  {
   "cell_type": "code",
   "execution_count": 196,
   "metadata": {
    "collapsed": true
   },
   "outputs": [],
   "source": [
    "df_mushrooms = data.copy()\n",
    "for c in df_mushrooms.columns.values:\n",
    "    df_mushrooms[c] = LabelEncoder().fit_transform(df_mushrooms[c])"
   ]
  },
  {
   "cell_type": "code",
   "execution_count": 197,
   "metadata": {},
   "outputs": [],
   "source": [
    "df_mushrooms.head()\n",
    "df_mushrooms.to_csv(\"../results/encoded.csv\", encoding='utf-8', index=False)"
   ]
  },
  {
   "cell_type": "code",
   "execution_count": 198,
   "metadata": {},
   "outputs": [
    {
     "data": {
      "text/html": [
       "<div>\n",
       "<style scoped>\n",
       "    .dataframe tbody tr th:only-of-type {\n",
       "        vertical-align: middle;\n",
       "    }\n",
       "\n",
       "    .dataframe tbody tr th {\n",
       "        vertical-align: top;\n",
       "    }\n",
       "\n",
       "    .dataframe thead th {\n",
       "        text-align: right;\n",
       "    }\n",
       "</style>\n",
       "<table border=\"1\" class=\"dataframe\">\n",
       "  <thead>\n",
       "    <tr style=\"text-align: right;\">\n",
       "      <th></th>\n",
       "      <th>class_label</th>\n",
       "      <th>cap_shape</th>\n",
       "      <th>cap_surface</th>\n",
       "      <th>cap_color</th>\n",
       "      <th>bruises</th>\n",
       "      <th>odor</th>\n",
       "      <th>gill_attachment</th>\n",
       "      <th>gill_spacing</th>\n",
       "      <th>gill_size</th>\n",
       "      <th>gill_color</th>\n",
       "      <th>...</th>\n",
       "      <th>stalk_surface-below-ring</th>\n",
       "      <th>stalk_color-above-ring</th>\n",
       "      <th>stalk_color-below-ring</th>\n",
       "      <th>veil_type</th>\n",
       "      <th>veil_color</th>\n",
       "      <th>ring_number</th>\n",
       "      <th>ring_type</th>\n",
       "      <th>spore_print-color</th>\n",
       "      <th>population</th>\n",
       "      <th>habitat</th>\n",
       "    </tr>\n",
       "  </thead>\n",
       "  <tbody>\n",
       "    <tr>\n",
       "      <th>0</th>\n",
       "      <td>1</td>\n",
       "      <td>5</td>\n",
       "      <td>2</td>\n",
       "      <td>4</td>\n",
       "      <td>1</td>\n",
       "      <td>6</td>\n",
       "      <td>1</td>\n",
       "      <td>0</td>\n",
       "      <td>1</td>\n",
       "      <td>4</td>\n",
       "      <td>...</td>\n",
       "      <td>2</td>\n",
       "      <td>7</td>\n",
       "      <td>7</td>\n",
       "      <td>0</td>\n",
       "      <td>2</td>\n",
       "      <td>1</td>\n",
       "      <td>4</td>\n",
       "      <td>2</td>\n",
       "      <td>3</td>\n",
       "      <td>5</td>\n",
       "    </tr>\n",
       "    <tr>\n",
       "      <th>1</th>\n",
       "      <td>0</td>\n",
       "      <td>5</td>\n",
       "      <td>2</td>\n",
       "      <td>9</td>\n",
       "      <td>1</td>\n",
       "      <td>0</td>\n",
       "      <td>1</td>\n",
       "      <td>0</td>\n",
       "      <td>0</td>\n",
       "      <td>4</td>\n",
       "      <td>...</td>\n",
       "      <td>2</td>\n",
       "      <td>7</td>\n",
       "      <td>7</td>\n",
       "      <td>0</td>\n",
       "      <td>2</td>\n",
       "      <td>1</td>\n",
       "      <td>4</td>\n",
       "      <td>3</td>\n",
       "      <td>2</td>\n",
       "      <td>1</td>\n",
       "    </tr>\n",
       "    <tr>\n",
       "      <th>2</th>\n",
       "      <td>0</td>\n",
       "      <td>0</td>\n",
       "      <td>2</td>\n",
       "      <td>8</td>\n",
       "      <td>1</td>\n",
       "      <td>3</td>\n",
       "      <td>1</td>\n",
       "      <td>0</td>\n",
       "      <td>0</td>\n",
       "      <td>5</td>\n",
       "      <td>...</td>\n",
       "      <td>2</td>\n",
       "      <td>7</td>\n",
       "      <td>7</td>\n",
       "      <td>0</td>\n",
       "      <td>2</td>\n",
       "      <td>1</td>\n",
       "      <td>4</td>\n",
       "      <td>3</td>\n",
       "      <td>2</td>\n",
       "      <td>3</td>\n",
       "    </tr>\n",
       "    <tr>\n",
       "      <th>3</th>\n",
       "      <td>1</td>\n",
       "      <td>5</td>\n",
       "      <td>3</td>\n",
       "      <td>8</td>\n",
       "      <td>1</td>\n",
       "      <td>6</td>\n",
       "      <td>1</td>\n",
       "      <td>0</td>\n",
       "      <td>1</td>\n",
       "      <td>5</td>\n",
       "      <td>...</td>\n",
       "      <td>2</td>\n",
       "      <td>7</td>\n",
       "      <td>7</td>\n",
       "      <td>0</td>\n",
       "      <td>2</td>\n",
       "      <td>1</td>\n",
       "      <td>4</td>\n",
       "      <td>2</td>\n",
       "      <td>3</td>\n",
       "      <td>5</td>\n",
       "    </tr>\n",
       "    <tr>\n",
       "      <th>4</th>\n",
       "      <td>0</td>\n",
       "      <td>5</td>\n",
       "      <td>2</td>\n",
       "      <td>3</td>\n",
       "      <td>0</td>\n",
       "      <td>5</td>\n",
       "      <td>1</td>\n",
       "      <td>1</td>\n",
       "      <td>0</td>\n",
       "      <td>4</td>\n",
       "      <td>...</td>\n",
       "      <td>2</td>\n",
       "      <td>7</td>\n",
       "      <td>7</td>\n",
       "      <td>0</td>\n",
       "      <td>2</td>\n",
       "      <td>1</td>\n",
       "      <td>0</td>\n",
       "      <td>3</td>\n",
       "      <td>0</td>\n",
       "      <td>1</td>\n",
       "    </tr>\n",
       "  </tbody>\n",
       "</table>\n",
       "<p>5 rows × 22 columns</p>\n",
       "</div>"
      ],
      "text/plain": [
       "   class_label  cap_shape  cap_surface  cap_color  bruises  odor  \\\n",
       "0            1          5            2          4        1     6   \n",
       "1            0          5            2          9        1     0   \n",
       "2            0          0            2          8        1     3   \n",
       "3            1          5            3          8        1     6   \n",
       "4            0          5            2          3        0     5   \n",
       "\n",
       "   gill_attachment  gill_spacing  gill_size  gill_color   ...     \\\n",
       "0                1             0          1           4   ...      \n",
       "1                1             0          0           4   ...      \n",
       "2                1             0          0           5   ...      \n",
       "3                1             0          1           5   ...      \n",
       "4                1             1          0           4   ...      \n",
       "\n",
       "   stalk_surface-below-ring  stalk_color-above-ring  stalk_color-below-ring  \\\n",
       "0                         2                       7                       7   \n",
       "1                         2                       7                       7   \n",
       "2                         2                       7                       7   \n",
       "3                         2                       7                       7   \n",
       "4                         2                       7                       7   \n",
       "\n",
       "   veil_type  veil_color  ring_number  ring_type  spore_print-color  \\\n",
       "0          0           2            1          4                  2   \n",
       "1          0           2            1          4                  3   \n",
       "2          0           2            1          4                  3   \n",
       "3          0           2            1          4                  2   \n",
       "4          0           2            1          0                  3   \n",
       "\n",
       "   population  habitat  \n",
       "0           3        5  \n",
       "1           2        1  \n",
       "2           2        3  \n",
       "3           3        5  \n",
       "4           0        1  \n",
       "\n",
       "[5 rows x 22 columns]"
      ]
     },
     "execution_count": 198,
     "metadata": {},
     "output_type": "execute_result"
    }
   ],
   "source": [
    "df_mushrooms.head()"
   ]
  },
  {
   "cell_type": "code",
   "execution_count": 199,
   "metadata": {
    "collapsed": true
   },
   "outputs": [],
   "source": [
    "features = df_mushrooms.iloc[:,1:]"
   ]
  },
  {
   "cell_type": "markdown",
   "metadata": {},
   "source": [
    "##### Classfication model"
   ]
  },
  {
   "cell_type": "markdown",
   "metadata": {},
   "source": [
    "###### Dividing dataset into X(predictors) and y(labels)"
   ]
  },
  {
   "cell_type": "code",
   "execution_count": 200,
   "metadata": {
    "collapsed": true
   },
   "outputs": [],
   "source": [
    "#Predictors/Features\n",
    "X = df_mushrooms.drop(['class_label'],axis=1)\n",
    "\n",
    "#Label\n",
    "y = df_mushrooms['class_label']"
   ]
  },
  {
   "cell_type": "code",
   "execution_count": 201,
   "metadata": {
    "collapsed": true
   },
   "outputs": [],
   "source": [
    "# Shuffle and split the data into training and testing subsets\n",
    "X_train, X_test, y_train, y_test = train_test_split(X, y, random_state = 10)"
   ]
  },
  {
   "cell_type": "markdown",
   "metadata": {},
   "source": [
    "##### Batch classifiers"
   ]
  },
  {
   "cell_type": "code",
   "execution_count": 202,
   "metadata": {
    "collapsed": true
   },
   "outputs": [],
   "source": [
    "classifiers = {\n",
    "    \"Knn\": KNeighborsClassifier(),\n",
    "    \"Decision Tree\": DecisionTreeClassifier(),\n",
    "    \"Random Forest\": RandomForestClassifier(n_estimators = 10),\n",
    "    \"Logistic Regression\": LogisticRegression(),\n",
    "    \"Linear SVM\": SVC(),\n",
    "    \"Naive Bayes\": GaussianNB()\n",
    "}"
   ]
  },
  {
   "cell_type": "code",
   "execution_count": 203,
   "metadata": {
    "collapsed": true
   },
   "outputs": [],
   "source": [
    "def classify(X_train, Y_train, X_test, Y_test):\n",
    "    results = pd.DataFrame(data=np.zeros(shape=(len(classifiers.keys()),3)), columns = ['classifier', 'training error', 'test error'])\n",
    "    count = 0\n",
    "    for key, c in classifiers.items():\n",
    "        c.fit(X_train, Y_train)\n",
    "        train_error = 1-c.score(X_train, Y_train)\n",
    "        test_error = 1-c.score(X_test, Y_test)\n",
    "        results.loc[count,'classifier'] = key\n",
    "        results.loc[count,'training error'] = train_error\n",
    "        results.loc[count,'test error'] = test_error\n",
    "        count+=1\n",
    "    return results\n",
    " "
   ]
  },
  {
   "cell_type": "code",
   "execution_count": 159,
   "metadata": {},
   "outputs": [
    {
     "data": {
      "text/html": [
       "<div>\n",
       "<style scoped>\n",
       "    .dataframe tbody tr th:only-of-type {\n",
       "        vertical-align: middle;\n",
       "    }\n",
       "\n",
       "    .dataframe tbody tr th {\n",
       "        vertical-align: top;\n",
       "    }\n",
       "\n",
       "    .dataframe thead th {\n",
       "        text-align: right;\n",
       "    }\n",
       "</style>\n",
       "<table border=\"1\" class=\"dataframe\">\n",
       "  <thead>\n",
       "    <tr style=\"text-align: right;\">\n",
       "      <th></th>\n",
       "      <th>classifier</th>\n",
       "      <th>training error</th>\n",
       "      <th>test error</th>\n",
       "    </tr>\n",
       "  </thead>\n",
       "  <tbody>\n",
       "    <tr>\n",
       "      <th>0</th>\n",
       "      <td>Knn</td>\n",
       "      <td>0.000985</td>\n",
       "      <td>0.001969</td>\n",
       "    </tr>\n",
       "    <tr>\n",
       "      <th>1</th>\n",
       "      <td>Decision Tree</td>\n",
       "      <td>0.000000</td>\n",
       "      <td>0.000000</td>\n",
       "    </tr>\n",
       "    <tr>\n",
       "      <th>2</th>\n",
       "      <td>Random Forest</td>\n",
       "      <td>0.000000</td>\n",
       "      <td>0.000000</td>\n",
       "    </tr>\n",
       "    <tr>\n",
       "      <th>3</th>\n",
       "      <td>Logistic Regression</td>\n",
       "      <td>0.053996</td>\n",
       "      <td>0.053176</td>\n",
       "    </tr>\n",
       "    <tr>\n",
       "      <th>4</th>\n",
       "      <td>Linear SVM</td>\n",
       "      <td>0.000000</td>\n",
       "      <td>0.000000</td>\n",
       "    </tr>\n",
       "    <tr>\n",
       "      <th>5</th>\n",
       "      <td>Naive Bayes</td>\n",
       "      <td>0.075989</td>\n",
       "      <td>0.075332</td>\n",
       "    </tr>\n",
       "  </tbody>\n",
       "</table>\n",
       "</div>"
      ],
      "text/plain": [
       "            classifier  training error  test error\n",
       "0                  Knn        0.000985    0.001969\n",
       "1        Decision Tree        0.000000    0.000000\n",
       "2        Random Forest        0.000000    0.000000\n",
       "3  Logistic Regression        0.053996    0.053176\n",
       "4           Linear SVM        0.000000    0.000000\n",
       "5          Naive Bayes        0.075989    0.075332"
      ]
     },
     "execution_count": 159,
     "metadata": {},
     "output_type": "execute_result"
    }
   ],
   "source": [
    "results =classify(X_train, y_train, X_test, y_test)\n",
    "results"
   ]
  },
  {
   "cell_type": "code",
   "execution_count": 204,
   "metadata": {
    "collapsed": true
   },
   "outputs": [],
   "source": [
    "results.to_csv(\"../results/results_batch.csv\", encoding='utf-8', index=False)"
   ]
  },
  {
   "cell_type": "markdown",
   "metadata": {},
   "source": [
    "As we can see Decision Tree, Random forest and Lienar SVM gives high accurayc, lets explore them further."
   ]
  },
  {
   "cell_type": "markdown",
   "metadata": {},
   "source": [
    "##### Decision Tree"
   ]
  },
  {
   "cell_type": "code",
   "execution_count": 179,
   "metadata": {},
   "outputs": [
    {
     "data": {
      "image/png": "[encoded data removed]",
      "text/plain": [
       "<matplotlib.figure.Figure at 0x1144ec1d0>"
      ]
     },
     "metadata": {},
     "output_type": "display_data"
    }
   ],
   "source": [
    "train_acc=[]\n",
    "test_acc=[] \n",
    "\n",
    "for d in range(1, 10):\n",
    "    model_dt = DecisionTreeClassifier(max_depth=d)\n",
    "    model_dt.fit(X_train, y_train) \n",
    "    train_acc.append(1-model_dt.score(X=X_train,y=y_train))\n",
    "    test_acc.append(1-model_dt.score(X=X_test,y=y_test))\n",
    "\n",
    "\n",
    "plt.plot(train_acc,'b--', linewidth=3,)\n",
    "plt.plot(test_acc, 'r--', linewidth=3,)\n",
    "plt.legend([\"training error\",\"test error\"])\n",
    "plt.title(\"Depth of Decision Tree vs Error\")\n",
    "plt.xlabel(\"Depth of Decision tree\")\n",
    "plt.ylabel(\"Error\")\n",
    "plt.grid(False)\n",
    "plt.show()\n"
   ]
  },
  {
   "cell_type": "markdown",
   "metadata": {},
   "source": [
    "A depth of 6 looks like a good estimate."
   ]
  },
  {
   "cell_type": "code",
   "execution_count": 180,
   "metadata": {},
   "outputs": [
    {
     "data": {
      "text/plain": [
       "DecisionTreeClassifier(class_weight=None, criterion='gini', max_depth=6,\n",
       "            max_features=None, max_leaf_nodes=None,\n",
       "            min_impurity_split=1e-07, min_samples_leaf=1,\n",
       "            min_samples_split=2, min_weight_fraction_leaf=0.0,\n",
       "            presort=False, random_state=None, splitter='best')"
      ]
     },
     "execution_count": 180,
     "metadata": {},
     "output_type": "execute_result"
    }
   ],
   "source": [
    "model_dt_6 = DecisionTreeClassifier(max_depth=6)\n",
    "model_dt_6.fit(X_train, y_train)"
   ]
  },
  {
   "cell_type": "code",
   "execution_count": 182,
   "metadata": {},
   "outputs": [
    {
     "name": "stdout",
     "output_type": "stream",
     "text": [
      "Test error is  0.00492368291482\n"
     ]
    }
   ],
   "source": [
    "print(\"Test error is \", 1-model_dt_6.score(X_test, y_test))"
   ]
  },
  {
   "cell_type": "markdown",
   "metadata": {},
   "source": [
    "##### Decision Tree with depth 6\n",
    "\n",
    "| Data | Error | \n",
    "|------|-------|\n",
    "|  Test set     | 0.00492368291482  |"
   ]
  },
  {
   "cell_type": "markdown",
   "metadata": {},
   "source": [
    "##### Decision tree graph"
   ]
  },
  {
   "cell_type": "code",
   "execution_count": 166,
   "metadata": {},
   "outputs": [
    {
     "data": {
      "text/plain": [
       "'../results/tree.pdf'"
      ]
     },
     "execution_count": 166,
     "metadata": {},
     "output_type": "execute_result"
    }
   ],
   "source": [
    "export_graphviz(model_dt_6, out_file=\"dt_graph.dot\", class_names = [\"edible\", \"poisonous\"],            \n",
    "                feature_names = features.columns, impurity=False, filled=True) \n",
    "\n",
    "with open(\"dt_graph.dot\") as file:\n",
    "    dot_graph = file.read()\n",
    "graph = graphviz.Source(dot_graph)\n",
    "graph.render(\"../results/tree\")\n"
   ]
  },
  {
   "cell_type": "code",
   "execution_count": 165,
   "metadata": {},
   "outputs": [
    {
     "data": {
      "image/svg+xml": [
       "<?xml version=\"1.0\" encoding=\"UTF-8\" standalone=\"no\"?>\n",
       "<!DOCTYPE svg PUBLIC \"-//W3C//DTD SVG 1.1//EN\"\n",
       " \"http://www.w3.org/Graphics/SVG/1.1/DTD/svg11.dtd\">\n",
       "<!-- Generated by graphviz version 2.38.0 (20140413.2041)\n",
       " -->\n",
       "<!-- Title: Tree Pages: 1 -->\n",
       "<svg width=\"1447pt\" height=\"658pt\"\n",
       " viewBox=\"0.00 0.00 1446.90 658.00\" xmlns=\"http://www.w3.org/2000/svg\" xmlns:xlink=\"http://www.w3.org/1999/xlink\">\n",
       "<g id=\"graph0\" class=\"graph\" transform=\"scale(1 1) rotate(0) translate(4 654)\">\n",
       "<title>Tree</title>\n",
       "<polygon fill=\"white\" stroke=\"none\" points=\"-4,4 -4,-654 1442.9,-654 1442.9,4 -4,4\"/>\n",
       "<!-- 0 -->\n",
       "<g id=\"node1\" class=\"node\"><title>0</title>\n",
       "<polygon fill=\"#e58139\" fill-opacity=\"0.058824\" stroke=\"black\" points=\"688.986,-650 555.91,-650 555.91,-586 688.986,-586 688.986,-650\"/>\n",
       "<text text-anchor=\"middle\" x=\"622.448\" y=\"-634.8\" font-family=\"Times,serif\" font-size=\"14.00\">gill_color &lt;= 3.5</text>\n",
       "<text text-anchor=\"middle\" x=\"622.448\" y=\"-620.8\" font-family=\"Times,serif\" font-size=\"14.00\">samples = 6093</text>\n",
       "<text text-anchor=\"middle\" x=\"622.448\" y=\"-606.8\" font-family=\"Times,serif\" font-size=\"14.00\">value = [3136, 2957]</text>\n",
       "<text text-anchor=\"middle\" x=\"622.448\" y=\"-592.8\" font-family=\"Times,serif\" font-size=\"14.00\">class = edible</text>\n",
       "</g>\n",
       "<!-- 1 -->\n",
       "<g id=\"node2\" class=\"node\"><title>1</title>\n",
       "<polygon fill=\"#399de5\" fill-opacity=\"0.807843\" stroke=\"black\" points=\"565.96,-550 440.935,-550 440.935,-486 565.96,-486 565.96,-550\"/>\n",
       "<text text-anchor=\"middle\" x=\"503.448\" y=\"-534.8\" font-family=\"Times,serif\" font-size=\"14.00\">population &lt;= 3.5</text>\n",
       "<text text-anchor=\"middle\" x=\"503.448\" y=\"-520.8\" font-family=\"Times,serif\" font-size=\"14.00\">samples = 2520</text>\n",
       "<text text-anchor=\"middle\" x=\"503.448\" y=\"-506.8\" font-family=\"Times,serif\" font-size=\"14.00\">value = [409, 2111]</text>\n",
       "<text text-anchor=\"middle\" x=\"503.448\" y=\"-492.8\" font-family=\"Times,serif\" font-size=\"14.00\">class = poisonous</text>\n",
       "</g>\n",
       "<!-- 0&#45;&gt;1 -->\n",
       "<g id=\"edge1\" class=\"edge\"><title>0&#45;&gt;1</title>\n",
       "<path fill=\"none\" stroke=\"black\" d=\"M584.795,-585.992C573.509,-576.698 561.005,-566.4 549.254,-556.723\"/>\n",
       "<polygon fill=\"black\" stroke=\"black\" points=\"551.208,-553.798 541.264,-550.142 546.758,-559.201 551.208,-553.798\"/>\n",
       "<text text-anchor=\"middle\" x=\"543.672\" y=\"-570.826\" font-family=\"Times,serif\" font-size=\"14.00\">True</text>\n",
       "</g>\n",
       "<!-- 16 -->\n",
       "<g id=\"node17\" class=\"node\"><title>16</title>\n",
       "<polygon fill=\"#e58139\" fill-opacity=\"0.690196\" stroke=\"black\" points=\"818.433,-550 664.463,-550 664.463,-486 818.433,-486 818.433,-550\"/>\n",
       "<text text-anchor=\"middle\" x=\"741.448\" y=\"-534.8\" font-family=\"Times,serif\" font-size=\"14.00\">spore_print&#45;color &lt;= 1.5</text>\n",
       "<text text-anchor=\"middle\" x=\"741.448\" y=\"-520.8\" font-family=\"Times,serif\" font-size=\"14.00\">samples = 3573</text>\n",
       "<text text-anchor=\"middle\" x=\"741.448\" y=\"-506.8\" font-family=\"Times,serif\" font-size=\"14.00\">value = [2727, 846]</text>\n",
       "<text text-anchor=\"middle\" x=\"741.448\" y=\"-492.8\" font-family=\"Times,serif\" font-size=\"14.00\">class = edible</text>\n",
       "</g>\n",
       "<!-- 0&#45;&gt;16 -->\n",
       "<g id=\"edge16\" class=\"edge\"><title>0&#45;&gt;16</title>\n",
       "<path fill=\"none\" stroke=\"black\" d=\"M660.1,-585.992C671.386,-576.698 683.891,-566.4 695.641,-556.723\"/>\n",
       "<polygon fill=\"black\" stroke=\"black\" points=\"698.138,-559.201 703.632,-550.142 693.688,-553.798 698.138,-559.201\"/>\n",
       "<text text-anchor=\"middle\" x=\"701.224\" y=\"-570.826\" font-family=\"Times,serif\" font-size=\"14.00\">False</text>\n",
       "</g>\n",
       "<!-- 2 -->\n",
       "<g id=\"node3\" class=\"node\"><title>2</title>\n",
       "<polygon fill=\"#e58139\" fill-opacity=\"0.862745\" stroke=\"black\" points=\"266.433,-450 112.463,-450 112.463,-386 266.433,-386 266.433,-450\"/>\n",
       "<text text-anchor=\"middle\" x=\"189.448\" y=\"-434.8\" font-family=\"Times,serif\" font-size=\"14.00\">spore_print&#45;color &lt;= 1.5</text>\n",
       "<text text-anchor=\"middle\" x=\"189.448\" y=\"-420.8\" font-family=\"Times,serif\" font-size=\"14.00\">samples = 437</text>\n",
       "<text text-anchor=\"middle\" x=\"189.448\" y=\"-406.8\" font-family=\"Times,serif\" font-size=\"14.00\">value = [384, 53]</text>\n",
       "<text text-anchor=\"middle\" x=\"189.448\" y=\"-392.8\" font-family=\"Times,serif\" font-size=\"14.00\">class = edible</text>\n",
       "</g>\n",
       "<!-- 1&#45;&gt;2 -->\n",
       "<g id=\"edge2\" class=\"edge\"><title>1&#45;&gt;2</title>\n",
       "<path fill=\"none\" stroke=\"black\" d=\"M440.66,-497.404C393.4,-482.654 328.067,-462.263 275.874,-445.974\"/>\n",
       "<polygon fill=\"black\" stroke=\"black\" points=\"276.877,-442.62 266.288,-442.982 274.791,-449.302 276.877,-442.62\"/>\n",
       "</g>\n",
       "<!-- 7 -->\n",
       "<g id=\"node8\" class=\"node\"><title>7</title>\n",
       "<polygon fill=\"#399de5\" fill-opacity=\"0.988235\" stroke=\"black\" points=\"562.986,-450 443.91,-450 443.91,-386 562.986,-386 562.986,-450\"/>\n",
       "<text text-anchor=\"middle\" x=\"503.448\" y=\"-434.8\" font-family=\"Times,serif\" font-size=\"14.00\">habitat &lt;= 4.5</text>\n",
       "<text text-anchor=\"middle\" x=\"503.448\" y=\"-420.8\" font-family=\"Times,serif\" font-size=\"14.00\">samples = 2083</text>\n",
       "<text text-anchor=\"middle\" x=\"503.448\" y=\"-406.8\" font-family=\"Times,serif\" font-size=\"14.00\">value = [25, 2058]</text>\n",
       "<text text-anchor=\"middle\" x=\"503.448\" y=\"-392.8\" font-family=\"Times,serif\" font-size=\"14.00\">class = poisonous</text>\n",
       "</g>\n",
       "<!-- 1&#45;&gt;7 -->\n",
       "<g id=\"edge7\" class=\"edge\"><title>1&#45;&gt;7</title>\n",
       "<path fill=\"none\" stroke=\"black\" d=\"M503.448,-485.992C503.448,-477.859 503.448,-468.959 503.448,-460.378\"/>\n",
       "<polygon fill=\"black\" stroke=\"black\" points=\"506.948,-460.142 503.448,-450.142 499.948,-460.142 506.948,-460.142\"/>\n",
       "</g>\n",
       "<!-- 3 -->\n",
       "<g id=\"node4\" class=\"node\"><title>3</title>\n",
       "<polygon fill=\"#399de5\" stroke=\"black\" points=\"114.843,-343 0.0521986,-343 0.0521986,-293 114.843,-293 114.843,-343\"/>\n",
       "<text text-anchor=\"middle\" x=\"57.4478\" y=\"-327.8\" font-family=\"Times,serif\" font-size=\"14.00\">samples = 34</text>\n",
       "<text text-anchor=\"middle\" x=\"57.4478\" y=\"-313.8\" font-family=\"Times,serif\" font-size=\"14.00\">value = [0, 34]</text>\n",
       "<text text-anchor=\"middle\" x=\"57.4478\" y=\"-299.8\" font-family=\"Times,serif\" font-size=\"14.00\">class = poisonous</text>\n",
       "</g>\n",
       "<!-- 2&#45;&gt;3 -->\n",
       "<g id=\"edge3\" class=\"edge\"><title>2&#45;&gt;3</title>\n",
       "<path fill=\"none\" stroke=\"black\" d=\"M147.682,-385.992C132.005,-374.353 114.209,-361.141 98.5886,-349.544\"/>\n",
       "<polygon fill=\"black\" stroke=\"black\" points=\"100.277,-346.439 90.1617,-343.288 96.1045,-352.059 100.277,-346.439\"/>\n",
       "</g>\n",
       "<!-- 4 -->\n",
       "<g id=\"node5\" class=\"node\"><title>4</title>\n",
       "<polygon fill=\"#e58139\" fill-opacity=\"0.949020\" stroke=\"black\" points=\"245.486,-350 133.41,-350 133.41,-286 245.486,-286 245.486,-350\"/>\n",
       "<text text-anchor=\"middle\" x=\"189.448\" y=\"-334.8\" font-family=\"Times,serif\" font-size=\"14.00\">gill_size &lt;= 0.5</text>\n",
       "<text text-anchor=\"middle\" x=\"189.448\" y=\"-320.8\" font-family=\"Times,serif\" font-size=\"14.00\">samples = 403</text>\n",
       "<text text-anchor=\"middle\" x=\"189.448\" y=\"-306.8\" font-family=\"Times,serif\" font-size=\"14.00\">value = [384, 19]</text>\n",
       "<text text-anchor=\"middle\" x=\"189.448\" y=\"-292.8\" font-family=\"Times,serif\" font-size=\"14.00\">class = edible</text>\n",
       "</g>\n",
       "<!-- 2&#45;&gt;4 -->\n",
       "<g id=\"edge4\" class=\"edge\"><title>2&#45;&gt;4</title>\n",
       "<path fill=\"none\" stroke=\"black\" d=\"M189.448,-385.992C189.448,-377.859 189.448,-368.959 189.448,-360.378\"/>\n",
       "<polygon fill=\"black\" stroke=\"black\" points=\"192.948,-360.142 189.448,-350.142 185.948,-360.142 192.948,-360.142\"/>\n",
       "</g>\n",
       "<!-- 5 -->\n",
       "<g id=\"node6\" class=\"node\"><title>5</title>\n",
       "<polygon fill=\"#e58139\" stroke=\"black\" points=\"113.986,-243 8.90963,-243 8.90963,-193 113.986,-193 113.986,-243\"/>\n",
       "<text text-anchor=\"middle\" x=\"61.4478\" y=\"-227.8\" font-family=\"Times,serif\" font-size=\"14.00\">samples = 384</text>\n",
       "<text text-anchor=\"middle\" x=\"61.4478\" y=\"-213.8\" font-family=\"Times,serif\" font-size=\"14.00\">value = [384, 0]</text>\n",
       "<text text-anchor=\"middle\" x=\"61.4478\" y=\"-199.8\" font-family=\"Times,serif\" font-size=\"14.00\">class = edible</text>\n",
       "</g>\n",
       "<!-- 4&#45;&gt;5 -->\n",
       "<g id=\"edge5\" class=\"edge\"><title>4&#45;&gt;5</title>\n",
       "<path fill=\"none\" stroke=\"black\" d=\"M148.948,-285.992C133.745,-274.353 116.489,-261.141 101.342,-249.544\"/>\n",
       "<polygon fill=\"black\" stroke=\"black\" points=\"103.238,-246.588 93.1704,-243.288 98.9828,-252.146 103.238,-246.588\"/>\n",
       "</g>\n",
       "<!-- 6 -->\n",
       "<g id=\"node7\" class=\"node\"><title>6</title>\n",
       "<polygon fill=\"#399de5\" stroke=\"black\" points=\"246.843,-243 132.052,-243 132.052,-193 246.843,-193 246.843,-243\"/>\n",
       "<text text-anchor=\"middle\" x=\"189.448\" y=\"-227.8\" font-family=\"Times,serif\" font-size=\"14.00\">samples = 19</text>\n",
       "<text text-anchor=\"middle\" x=\"189.448\" y=\"-213.8\" font-family=\"Times,serif\" font-size=\"14.00\">value = [0, 19]</text>\n",
       "<text text-anchor=\"middle\" x=\"189.448\" y=\"-199.8\" font-family=\"Times,serif\" font-size=\"14.00\">class = poisonous</text>\n",
       "</g>\n",
       "<!-- 4&#45;&gt;6 -->\n",
       "<g id=\"edge6\" class=\"edge\"><title>4&#45;&gt;6</title>\n",
       "<path fill=\"none\" stroke=\"black\" d=\"M189.448,-285.992C189.448,-275.646 189.448,-264.057 189.448,-253.465\"/>\n",
       "<polygon fill=\"black\" stroke=\"black\" points=\"192.948,-253.288 189.448,-243.288 185.948,-253.288 192.948,-253.288\"/>\n",
       "</g>\n",
       "<!-- 8 -->\n",
       "<g id=\"node9\" class=\"node\"><title>8</title>\n",
       "<polygon fill=\"#399de5\" fill-opacity=\"0.996078\" stroke=\"black\" points=\"520.684,-350 324.211,-350 324.211,-286 520.684,-286 520.684,-350\"/>\n",
       "<text text-anchor=\"middle\" x=\"422.448\" y=\"-334.8\" font-family=\"Times,serif\" font-size=\"14.00\">stalk_surface&#45;below&#45;ring &lt;= 0.5</text>\n",
       "<text text-anchor=\"middle\" x=\"422.448\" y=\"-320.8\" font-family=\"Times,serif\" font-size=\"14.00\">samples = 2050</text>\n",
       "<text text-anchor=\"middle\" x=\"422.448\" y=\"-306.8\" font-family=\"Times,serif\" font-size=\"14.00\">value = [10, 2040]</text>\n",
       "<text text-anchor=\"middle\" x=\"422.448\" y=\"-292.8\" font-family=\"Times,serif\" font-size=\"14.00\">class = poisonous</text>\n",
       "</g>\n",
       "<!-- 7&#45;&gt;8 -->\n",
       "<g id=\"edge8\" class=\"edge\"><title>7&#45;&gt;8</title>\n",
       "<path fill=\"none\" stroke=\"black\" d=\"M477.819,-385.992C470.506,-377.144 462.442,-367.388 454.784,-358.123\"/>\n",
       "<polygon fill=\"black\" stroke=\"black\" points=\"457.257,-355.621 448.188,-350.142 451.861,-360.08 457.257,-355.621\"/>\n",
       "</g>\n",
       "<!-- 13 -->\n",
       "<g id=\"node14\" class=\"node\"><title>13</title>\n",
       "<polygon fill=\"#399de5\" fill-opacity=\"0.164706\" stroke=\"black\" points=\"653.843,-350 539.052,-350 539.052,-286 653.843,-286 653.843,-350\"/>\n",
       "<text text-anchor=\"middle\" x=\"596.448\" y=\"-334.8\" font-family=\"Times,serif\" font-size=\"14.00\">gill_size &lt;= 0.5</text>\n",
       "<text text-anchor=\"middle\" x=\"596.448\" y=\"-320.8\" font-family=\"Times,serif\" font-size=\"14.00\">samples = 33</text>\n",
       "<text text-anchor=\"middle\" x=\"596.448\" y=\"-306.8\" font-family=\"Times,serif\" font-size=\"14.00\">value = [15, 18]</text>\n",
       "<text text-anchor=\"middle\" x=\"596.448\" y=\"-292.8\" font-family=\"Times,serif\" font-size=\"14.00\">class = poisonous</text>\n",
       "</g>\n",
       "<!-- 7&#45;&gt;13 -->\n",
       "<g id=\"edge13\" class=\"edge\"><title>7&#45;&gt;13</title>\n",
       "<path fill=\"none\" stroke=\"black\" d=\"M532.874,-385.992C541.439,-376.966 550.903,-366.993 559.853,-357.562\"/>\n",
       "<polygon fill=\"black\" stroke=\"black\" points=\"562.549,-359.805 566.894,-350.142 557.472,-354.987 562.549,-359.805\"/>\n",
       "</g>\n",
       "<!-- 9 -->\n",
       "<g id=\"node10\" class=\"node\"><title>9</title>\n",
       "<polygon fill=\"#399de5\" fill-opacity=\"0.090196\" stroke=\"black\" points=\"388.081,-250 264.815,-250 264.815,-186 388.081,-186 388.081,-250\"/>\n",
       "<text text-anchor=\"middle\" x=\"326.448\" y=\"-234.8\" font-family=\"Times,serif\" font-size=\"14.00\">cap_surface &lt;= 2.5</text>\n",
       "<text text-anchor=\"middle\" x=\"326.448\" y=\"-220.8\" font-family=\"Times,serif\" font-size=\"14.00\">samples = 21</text>\n",
       "<text text-anchor=\"middle\" x=\"326.448\" y=\"-206.8\" font-family=\"Times,serif\" font-size=\"14.00\">value = [10, 11]</text>\n",
       "<text text-anchor=\"middle\" x=\"326.448\" y=\"-192.8\" font-family=\"Times,serif\" font-size=\"14.00\">class = poisonous</text>\n",
       "</g>\n",
       "<!-- 8&#45;&gt;9 -->\n",
       "<g id=\"edge9\" class=\"edge\"><title>8&#45;&gt;9</title>\n",
       "<path fill=\"none\" stroke=\"black\" d=\"M392.073,-285.992C383.23,-276.966 373.462,-266.993 364.223,-257.562\"/>\n",
       "<polygon fill=\"black\" stroke=\"black\" points=\"366.453,-254.837 356.955,-250.142 361.452,-259.735 366.453,-254.837\"/>\n",
       "</g>\n",
       "<!-- 12 -->\n",
       "<g id=\"node13\" class=\"node\"><title>12</title>\n",
       "<polygon fill=\"#399de5\" stroke=\"black\" points=\"520.843,-243 406.052,-243 406.052,-193 520.843,-193 520.843,-243\"/>\n",
       "<text text-anchor=\"middle\" x=\"463.448\" y=\"-227.8\" font-family=\"Times,serif\" font-size=\"14.00\">samples = 2029</text>\n",
       "<text text-anchor=\"middle\" x=\"463.448\" y=\"-213.8\" font-family=\"Times,serif\" font-size=\"14.00\">value = [0, 2029]</text>\n",
       "<text text-anchor=\"middle\" x=\"463.448\" y=\"-199.8\" font-family=\"Times,serif\" font-size=\"14.00\">class = poisonous</text>\n",
       "</g>\n",
       "<!-- 8&#45;&gt;12 -->\n",
       "<g id=\"edge12\" class=\"edge\"><title>8&#45;&gt;12</title>\n",
       "<path fill=\"none\" stroke=\"black\" d=\"M435.42,-285.992C439.839,-275.431 444.799,-263.574 449.305,-252.804\"/>\n",
       "<polygon fill=\"black\" stroke=\"black\" points=\"452.656,-253.864 453.287,-243.288 446.198,-251.162 452.656,-253.864\"/>\n",
       "</g>\n",
       "<!-- 10 -->\n",
       "<g id=\"node11\" class=\"node\"><title>10</title>\n",
       "<polygon fill=\"#399de5\" stroke=\"black\" points=\"320.843,-143 206.052,-143 206.052,-93 320.843,-93 320.843,-143\"/>\n",
       "<text text-anchor=\"middle\" x=\"263.448\" y=\"-127.8\" font-family=\"Times,serif\" font-size=\"14.00\">samples = 11</text>\n",
       "<text text-anchor=\"middle\" x=\"263.448\" y=\"-113.8\" font-family=\"Times,serif\" font-size=\"14.00\">value = [0, 11]</text>\n",
       "<text text-anchor=\"middle\" x=\"263.448\" y=\"-99.8\" font-family=\"Times,serif\" font-size=\"14.00\">class = poisonous</text>\n",
       "</g>\n",
       "<!-- 9&#45;&gt;10 -->\n",
       "<g id=\"edge10\" class=\"edge\"><title>9&#45;&gt;10</title>\n",
       "<path fill=\"none\" stroke=\"black\" d=\"M306.514,-185.992C299.517,-175.107 291.635,-162.847 284.545,-151.818\"/>\n",
       "<polygon fill=\"black\" stroke=\"black\" points=\"287.413,-149.807 279.061,-143.288 281.525,-153.592 287.413,-149.807\"/>\n",
       "</g>\n",
       "<!-- 11 -->\n",
       "<g id=\"node12\" class=\"node\"><title>11</title>\n",
       "<polygon fill=\"#e58139\" stroke=\"black\" points=\"437.486,-143 339.41,-143 339.41,-93 437.486,-93 437.486,-143\"/>\n",
       "<text text-anchor=\"middle\" x=\"388.448\" y=\"-127.8\" font-family=\"Times,serif\" font-size=\"14.00\">samples = 10</text>\n",
       "<text text-anchor=\"middle\" x=\"388.448\" y=\"-113.8\" font-family=\"Times,serif\" font-size=\"14.00\">value = [10, 0]</text>\n",
       "<text text-anchor=\"middle\" x=\"388.448\" y=\"-99.8\" font-family=\"Times,serif\" font-size=\"14.00\">class = edible</text>\n",
       "</g>\n",
       "<!-- 9&#45;&gt;11 -->\n",
       "<g id=\"edge11\" class=\"edge\"><title>9&#45;&gt;11</title>\n",
       "<path fill=\"none\" stroke=\"black\" d=\"M346.065,-185.992C352.951,-175.107 360.708,-162.847 367.685,-151.818\"/>\n",
       "<polygon fill=\"black\" stroke=\"black\" points=\"370.693,-153.61 373.082,-143.288 364.778,-149.867 370.693,-153.61\"/>\n",
       "</g>\n",
       "<!-- 14 -->\n",
       "<g id=\"node15\" class=\"node\"><title>14</title>\n",
       "<polygon fill=\"#399de5\" stroke=\"black\" points=\"653.843,-243 539.052,-243 539.052,-193 653.843,-193 653.843,-243\"/>\n",
       "<text text-anchor=\"middle\" x=\"596.448\" y=\"-227.8\" font-family=\"Times,serif\" font-size=\"14.00\">samples = 18</text>\n",
       "<text text-anchor=\"middle\" x=\"596.448\" y=\"-213.8\" font-family=\"Times,serif\" font-size=\"14.00\">value = [0, 18]</text>\n",
       "<text text-anchor=\"middle\" x=\"596.448\" y=\"-199.8\" font-family=\"Times,serif\" font-size=\"14.00\">class = poisonous</text>\n",
       "</g>\n",
       "<!-- 13&#45;&gt;14 -->\n",
       "<g id=\"edge14\" class=\"edge\"><title>13&#45;&gt;14</title>\n",
       "<path fill=\"none\" stroke=\"black\" d=\"M596.448,-285.992C596.448,-275.646 596.448,-264.057 596.448,-253.465\"/>\n",
       "<polygon fill=\"black\" stroke=\"black\" points=\"599.948,-253.288 596.448,-243.288 592.948,-253.288 599.948,-253.288\"/>\n",
       "</g>\n",
       "<!-- 15 -->\n",
       "<g id=\"node16\" class=\"node\"><title>15</title>\n",
       "<polygon fill=\"#e58139\" stroke=\"black\" points=\"770.486,-243 672.41,-243 672.41,-193 770.486,-193 770.486,-243\"/>\n",
       "<text text-anchor=\"middle\" x=\"721.448\" y=\"-227.8\" font-family=\"Times,serif\" font-size=\"14.00\">samples = 15</text>\n",
       "<text text-anchor=\"middle\" x=\"721.448\" y=\"-213.8\" font-family=\"Times,serif\" font-size=\"14.00\">value = [15, 0]</text>\n",
       "<text text-anchor=\"middle\" x=\"721.448\" y=\"-199.8\" font-family=\"Times,serif\" font-size=\"14.00\">class = edible</text>\n",
       "</g>\n",
       "<!-- 13&#45;&gt;15 -->\n",
       "<g id=\"edge15\" class=\"edge\"><title>13&#45;&gt;15</title>\n",
       "<path fill=\"none\" stroke=\"black\" d=\"M635.999,-285.992C650.845,-274.353 667.697,-261.141 682.489,-249.544\"/>\n",
       "<polygon fill=\"black\" stroke=\"black\" points=\"684.758,-252.212 690.469,-243.288 680.439,-246.703 684.758,-252.212\"/>\n",
       "</g>\n",
       "<!-- 17 -->\n",
       "<g id=\"node18\" class=\"node\"><title>17</title>\n",
       "<polygon fill=\"#399de5\" fill-opacity=\"0.866667\" stroke=\"black\" points=\"798.843,-450 684.052,-450 684.052,-386 798.843,-386 798.843,-450\"/>\n",
       "<text text-anchor=\"middle\" x=\"741.448\" y=\"-434.8\" font-family=\"Times,serif\" font-size=\"14.00\">odor &lt;= 3.5</text>\n",
       "<text text-anchor=\"middle\" x=\"741.448\" y=\"-420.8\" font-family=\"Times,serif\" font-size=\"14.00\">samples = 516</text>\n",
       "<text text-anchor=\"middle\" x=\"741.448\" y=\"-406.8\" font-family=\"Times,serif\" font-size=\"14.00\">value = [61, 455]</text>\n",
       "<text text-anchor=\"middle\" x=\"741.448\" y=\"-392.8\" font-family=\"Times,serif\" font-size=\"14.00\">class = poisonous</text>\n",
       "</g>\n",
       "<!-- 16&#45;&gt;17 -->\n",
       "<g id=\"edge17\" class=\"edge\"><title>16&#45;&gt;17</title>\n",
       "<path fill=\"none\" stroke=\"black\" d=\"M741.448,-485.992C741.448,-477.859 741.448,-468.959 741.448,-460.378\"/>\n",
       "<polygon fill=\"black\" stroke=\"black\" points=\"744.948,-460.142 741.448,-450.142 737.948,-460.142 744.948,-460.142\"/>\n",
       "</g>\n",
       "<!-- 20 -->\n",
       "<g id=\"node21\" class=\"node\"><title>20</title>\n",
       "<polygon fill=\"#e58139\" fill-opacity=\"0.854902\" stroke=\"black\" points=\"1049.49,-450 923.41,-450 923.41,-386 1049.49,-386 1049.49,-450\"/>\n",
       "<text text-anchor=\"middle\" x=\"986.448\" y=\"-434.8\" font-family=\"Times,serif\" font-size=\"14.00\">gill_size &lt;= 0.5</text>\n",
       "<text text-anchor=\"middle\" x=\"986.448\" y=\"-420.8\" font-family=\"Times,serif\" font-size=\"14.00\">samples = 3057</text>\n",
       "<text text-anchor=\"middle\" x=\"986.448\" y=\"-406.8\" font-family=\"Times,serif\" font-size=\"14.00\">value = [2666, 391]</text>\n",
       "<text text-anchor=\"middle\" x=\"986.448\" y=\"-392.8\" font-family=\"Times,serif\" font-size=\"14.00\">class = edible</text>\n",
       "</g>\n",
       "<!-- 16&#45;&gt;20 -->\n",
       "<g id=\"edge20\" class=\"edge\"><title>16&#45;&gt;20</title>\n",
       "<path fill=\"none\" stroke=\"black\" d=\"M818.295,-486.261C848.686,-474.105 883.451,-460.199 913.454,-448.198\"/>\n",
       "<polygon fill=\"black\" stroke=\"black\" points=\"915.031,-451.336 923.016,-444.373 912.431,-444.837 915.031,-451.336\"/>\n",
       "</g>\n",
       "<!-- 18 -->\n",
       "<g id=\"node19\" class=\"node\"><title>18</title>\n",
       "<polygon fill=\"#399de5\" stroke=\"black\" points=\"786.843,-343 672.052,-343 672.052,-293 786.843,-293 786.843,-343\"/>\n",
       "<text text-anchor=\"middle\" x=\"729.448\" y=\"-327.8\" font-family=\"Times,serif\" font-size=\"14.00\">samples = 455</text>\n",
       "<text text-anchor=\"middle\" x=\"729.448\" y=\"-313.8\" font-family=\"Times,serif\" font-size=\"14.00\">value = [0, 455]</text>\n",
       "<text text-anchor=\"middle\" x=\"729.448\" y=\"-299.8\" font-family=\"Times,serif\" font-size=\"14.00\">class = poisonous</text>\n",
       "</g>\n",
       "<!-- 17&#45;&gt;18 -->\n",
       "<g id=\"edge18\" class=\"edge\"><title>17&#45;&gt;18</title>\n",
       "<path fill=\"none\" stroke=\"black\" d=\"M737.651,-385.992C736.384,-375.646 734.965,-364.057 733.668,-353.465\"/>\n",
       "<polygon fill=\"black\" stroke=\"black\" points=\"737.111,-352.788 732.422,-343.288 730.163,-353.639 737.111,-352.788\"/>\n",
       "</g>\n",
       "<!-- 19 -->\n",
       "<g id=\"node20\" class=\"node\"><title>19</title>\n",
       "<polygon fill=\"#e58139\" stroke=\"black\" points=\"903.486,-343 805.41,-343 805.41,-293 903.486,-293 903.486,-343\"/>\n",
       "<text text-anchor=\"middle\" x=\"854.448\" y=\"-327.8\" font-family=\"Times,serif\" font-size=\"14.00\">samples = 61</text>\n",
       "<text text-anchor=\"middle\" x=\"854.448\" y=\"-313.8\" font-family=\"Times,serif\" font-size=\"14.00\">value = [61, 0]</text>\n",
       "<text text-anchor=\"middle\" x=\"854.448\" y=\"-299.8\" font-family=\"Times,serif\" font-size=\"14.00\">class = edible</text>\n",
       "</g>\n",
       "<!-- 17&#45;&gt;19 -->\n",
       "<g id=\"edge19\" class=\"edge\"><title>17&#45;&gt;19</title>\n",
       "<path fill=\"none\" stroke=\"black\" d=\"M777.202,-385.992C790.498,-374.461 805.575,-361.385 818.857,-349.866\"/>\n",
       "<polygon fill=\"black\" stroke=\"black\" points=\"821.181,-352.484 826.443,-343.288 816.595,-347.195 821.181,-352.484\"/>\n",
       "</g>\n",
       "<!-- 21 -->\n",
       "<g id=\"node22\" class=\"node\"><title>21</title>\n",
       "<polygon fill=\"#e58139\" fill-opacity=\"0.972549\" stroke=\"black\" points=\"1050.56,-350 922.339,-350 922.339,-286 1050.56,-286 1050.56,-350\"/>\n",
       "<text text-anchor=\"middle\" x=\"986.448\" y=\"-334.8\" font-family=\"Times,serif\" font-size=\"14.00\">ring_number &lt;= 0.5</text>\n",
       "<text text-anchor=\"middle\" x=\"986.448\" y=\"-320.8\" font-family=\"Times,serif\" font-size=\"14.00\">samples = 2563</text>\n",
       "<text text-anchor=\"middle\" x=\"986.448\" y=\"-306.8\" font-family=\"Times,serif\" font-size=\"14.00\">value = [2498, 65]</text>\n",
       "<text text-anchor=\"middle\" x=\"986.448\" y=\"-292.8\" font-family=\"Times,serif\" font-size=\"14.00\">class = edible</text>\n",
       "</g>\n",
       "<!-- 20&#45;&gt;21 -->\n",
       "<g id=\"edge21\" class=\"edge\"><title>20&#45;&gt;21</title>\n",
       "<path fill=\"none\" stroke=\"black\" d=\"M986.448,-385.992C986.448,-377.859 986.448,-368.959 986.448,-360.378\"/>\n",
       "<polygon fill=\"black\" stroke=\"black\" points=\"989.948,-360.142 986.448,-350.142 982.948,-360.142 989.948,-360.142\"/>\n",
       "</g>\n",
       "<!-- 30 -->\n",
       "<g id=\"node31\" class=\"node\"><title>30</title>\n",
       "<polygon fill=\"#399de5\" fill-opacity=\"0.486275\" stroke=\"black\" points=\"1190.06,-350 1068.84,-350 1068.84,-286 1190.06,-286 1190.06,-350\"/>\n",
       "<text text-anchor=\"middle\" x=\"1129.45\" y=\"-334.8\" font-family=\"Times,serif\" font-size=\"14.00\">stalk_shape &lt;= 0.5</text>\n",
       "<text text-anchor=\"middle\" x=\"1129.45\" y=\"-320.8\" font-family=\"Times,serif\" font-size=\"14.00\">samples = 494</text>\n",
       "<text text-anchor=\"middle\" x=\"1129.45\" y=\"-306.8\" font-family=\"Times,serif\" font-size=\"14.00\">value = [168, 326]</text>\n",
       "<text text-anchor=\"middle\" x=\"1129.45\" y=\"-292.8\" font-family=\"Times,serif\" font-size=\"14.00\">class = poisonous</text>\n",
       "</g>\n",
       "<!-- 20&#45;&gt;30 -->\n",
       "<g id=\"edge30\" class=\"edge\"><title>20&#45;&gt;30</title>\n",
       "<path fill=\"none\" stroke=\"black\" d=\"M1031.69,-385.992C1045.65,-376.429 1061.15,-365.805 1075.62,-355.887\"/>\n",
       "<polygon fill=\"black\" stroke=\"black\" points=\"1077.73,-358.683 1084.01,-350.142 1073.78,-352.908 1077.73,-358.683\"/>\n",
       "</g>\n",
       "<!-- 22 -->\n",
       "<g id=\"node23\" class=\"node\"><title>22</title>\n",
       "<polygon fill=\"#399de5\" stroke=\"black\" points=\"909.843,-243 795.052,-243 795.052,-193 909.843,-193 909.843,-243\"/>\n",
       "<text text-anchor=\"middle\" x=\"852.448\" y=\"-227.8\" font-family=\"Times,serif\" font-size=\"14.00\">samples = 25</text>\n",
       "<text text-anchor=\"middle\" x=\"852.448\" y=\"-213.8\" font-family=\"Times,serif\" font-size=\"14.00\">value = [0, 25]</text>\n",
       "<text text-anchor=\"middle\" x=\"852.448\" y=\"-199.8\" font-family=\"Times,serif\" font-size=\"14.00\">class = poisonous</text>\n",
       "</g>\n",
       "<!-- 21&#45;&gt;22 -->\n",
       "<g id=\"edge22\" class=\"edge\"><title>21&#45;&gt;22</title>\n",
       "<path fill=\"none\" stroke=\"black\" d=\"M944.049,-285.992C927.987,-274.245 909.734,-260.896 893.772,-249.222\"/>\n",
       "<polygon fill=\"black\" stroke=\"black\" points=\"895.795,-246.366 885.657,-243.288 891.663,-252.016 895.795,-246.366\"/>\n",
       "</g>\n",
       "<!-- 23 -->\n",
       "<g id=\"node24\" class=\"node\"><title>23</title>\n",
       "<polygon fill=\"#e58139\" fill-opacity=\"0.984314\" stroke=\"black\" points=\"1046.99,-250 927.91,-250 927.91,-186 1046.99,-186 1046.99,-250\"/>\n",
       "<text text-anchor=\"middle\" x=\"987.448\" y=\"-234.8\" font-family=\"Times,serif\" font-size=\"14.00\">cap_color &lt;= 0.5</text>\n",
       "<text text-anchor=\"middle\" x=\"987.448\" y=\"-220.8\" font-family=\"Times,serif\" font-size=\"14.00\">samples = 2538</text>\n",
       "<text text-anchor=\"middle\" x=\"987.448\" y=\"-206.8\" font-family=\"Times,serif\" font-size=\"14.00\">value = [2498, 40]</text>\n",
       "<text text-anchor=\"middle\" x=\"987.448\" y=\"-192.8\" font-family=\"Times,serif\" font-size=\"14.00\">class = edible</text>\n",
       "</g>\n",
       "<!-- 21&#45;&gt;23 -->\n",
       "<g id=\"edge23\" class=\"edge\"><title>21&#45;&gt;23</title>\n",
       "<path fill=\"none\" stroke=\"black\" d=\"M986.764,-285.992C986.847,-277.859 986.938,-268.959 987.026,-260.378\"/>\n",
       "<polygon fill=\"black\" stroke=\"black\" points=\"990.528,-260.178 987.13,-250.142 983.528,-260.106 990.528,-260.178\"/>\n",
       "</g>\n",
       "<!-- 24 -->\n",
       "<g id=\"node25\" class=\"node\"><title>24</title>\n",
       "<polygon fill=\"#e58139\" fill-opacity=\"0.109804\" stroke=\"black\" points=\"905.433,-150 751.463,-150 751.463,-86 905.433,-86 905.433,-150\"/>\n",
       "<text text-anchor=\"middle\" x=\"828.448\" y=\"-134.8\" font-family=\"Times,serif\" font-size=\"14.00\">spore_print&#45;color &lt;= 6.0</text>\n",
       "<text text-anchor=\"middle\" x=\"828.448\" y=\"-120.8\" font-family=\"Times,serif\" font-size=\"14.00\">samples = 34</text>\n",
       "<text text-anchor=\"middle\" x=\"828.448\" y=\"-106.8\" font-family=\"Times,serif\" font-size=\"14.00\">value = [18, 16]</text>\n",
       "<text text-anchor=\"middle\" x=\"828.448\" y=\"-92.8\" font-family=\"Times,serif\" font-size=\"14.00\">class = edible</text>\n",
       "</g>\n",
       "<!-- 23&#45;&gt;24 -->\n",
       "<g id=\"edge24\" class=\"edge\"><title>23&#45;&gt;24</title>\n",
       "<path fill=\"none\" stroke=\"black\" d=\"M937.139,-185.992C921.479,-176.34 904.064,-165.606 887.844,-155.609\"/>\n",
       "<polygon fill=\"black\" stroke=\"black\" points=\"889.324,-152.41 878.975,-150.142 885.651,-158.369 889.324,-152.41\"/>\n",
       "</g>\n",
       "<!-- 27 -->\n",
       "<g id=\"node28\" class=\"node\"><title>27</title>\n",
       "<polygon fill=\"#e58139\" fill-opacity=\"0.992157\" stroke=\"black\" points=\"1051.56,-150 923.339,-150 923.339,-86 1051.56,-86 1051.56,-150\"/>\n",
       "<text text-anchor=\"middle\" x=\"987.448\" y=\"-134.8\" font-family=\"Times,serif\" font-size=\"14.00\">ring_number &lt;= 1.5</text>\n",
       "<text text-anchor=\"middle\" x=\"987.448\" y=\"-120.8\" font-family=\"Times,serif\" font-size=\"14.00\">samples = 2504</text>\n",
       "<text text-anchor=\"middle\" x=\"987.448\" y=\"-106.8\" font-family=\"Times,serif\" font-size=\"14.00\">value = [2480, 24]</text>\n",
       "<text text-anchor=\"middle\" x=\"987.448\" y=\"-92.8\" font-family=\"Times,serif\" font-size=\"14.00\">class = edible</text>\n",
       "</g>\n",
       "<!-- 23&#45;&gt;27 -->\n",
       "<g id=\"edge27\" class=\"edge\"><title>23&#45;&gt;27</title>\n",
       "<path fill=\"none\" stroke=\"black\" d=\"M987.448,-185.992C987.448,-177.859 987.448,-168.959 987.448,-160.378\"/>\n",
       "<polygon fill=\"black\" stroke=\"black\" points=\"990.948,-160.142 987.448,-150.142 983.948,-160.142 990.948,-160.142\"/>\n",
       "</g>\n",
       "<!-- 25 -->\n",
       "<g id=\"node26\" class=\"node\"><title>25</title>\n",
       "<polygon fill=\"#399de5\" stroke=\"black\" points=\"767.843,-50 653.052,-50 653.052,-0 767.843,-0 767.843,-50\"/>\n",
       "<text text-anchor=\"middle\" x=\"710.448\" y=\"-34.8\" font-family=\"Times,serif\" font-size=\"14.00\">samples = 16</text>\n",
       "<text text-anchor=\"middle\" x=\"710.448\" y=\"-20.8\" font-family=\"Times,serif\" font-size=\"14.00\">value = [0, 16]</text>\n",
       "<text text-anchor=\"middle\" x=\"710.448\" y=\"-6.8\" font-family=\"Times,serif\" font-size=\"14.00\">class = poisonous</text>\n",
       "</g>\n",
       "<!-- 24&#45;&gt;25 -->\n",
       "<g id=\"edge25\" class=\"edge\"><title>24&#45;&gt;25</title>\n",
       "<path fill=\"none\" stroke=\"black\" d=\"M788.169,-85.9375C775.682,-76.3076 761.946,-65.7151 749.541,-56.1483\"/>\n",
       "<polygon fill=\"black\" stroke=\"black\" points=\"751.664,-53.3654 741.608,-50.0301 747.389,-58.9085 751.664,-53.3654\"/>\n",
       "</g>\n",
       "<!-- 26 -->\n",
       "<g id=\"node27\" class=\"node\"><title>26</title>\n",
       "<polygon fill=\"#e58139\" stroke=\"black\" points=\"884.486,-50 786.41,-50 786.41,-0 884.486,-0 884.486,-50\"/>\n",
       "<text text-anchor=\"middle\" x=\"835.448\" y=\"-34.8\" font-family=\"Times,serif\" font-size=\"14.00\">samples = 18</text>\n",
       "<text text-anchor=\"middle\" x=\"835.448\" y=\"-20.8\" font-family=\"Times,serif\" font-size=\"14.00\">value = [18, 0]</text>\n",
       "<text text-anchor=\"middle\" x=\"835.448\" y=\"-6.8\" font-family=\"Times,serif\" font-size=\"14.00\">class = edible</text>\n",
       "</g>\n",
       "<!-- 24&#45;&gt;26 -->\n",
       "<g id=\"edge26\" class=\"edge\"><title>24&#45;&gt;26</title>\n",
       "<path fill=\"none\" stroke=\"black\" d=\"M830.837,-85.9375C831.479,-77.5916 832.177,-68.5226 832.83,-60.025\"/>\n",
       "<polygon fill=\"black\" stroke=\"black\" points=\"836.322,-60.2691 833.599,-50.0301 829.343,-59.7321 836.322,-60.2691\"/>\n",
       "</g>\n",
       "<!-- 28 -->\n",
       "<g id=\"node29\" class=\"node\"><title>28</title>\n",
       "<polygon fill=\"#e58139\" stroke=\"black\" points=\"1029.49,-50 917.41,-50 917.41,-0 1029.49,-0 1029.49,-50\"/>\n",
       "<text text-anchor=\"middle\" x=\"973.448\" y=\"-34.8\" font-family=\"Times,serif\" font-size=\"14.00\">samples = 2243</text>\n",
       "<text text-anchor=\"middle\" x=\"973.448\" y=\"-20.8\" font-family=\"Times,serif\" font-size=\"14.00\">value = [2243, 0]</text>\n",
       "<text text-anchor=\"middle\" x=\"973.448\" y=\"-6.8\" font-family=\"Times,serif\" font-size=\"14.00\">class = edible</text>\n",
       "</g>\n",
       "<!-- 27&#45;&gt;28 -->\n",
       "<g id=\"edge28\" class=\"edge\"><title>27&#45;&gt;28</title>\n",
       "<path fill=\"none\" stroke=\"black\" d=\"M982.669,-85.9375C981.385,-77.5916 979.99,-68.5226 978.682,-60.025\"/>\n",
       "<polygon fill=\"black\" stroke=\"black\" points=\"982.125,-59.3816 977.145,-50.0301 975.206,-60.446 982.125,-59.3816\"/>\n",
       "</g>\n",
       "<!-- 29 -->\n",
       "<g id=\"node30\" class=\"node\"><title>29</title>\n",
       "<polygon fill=\"#e58139\" fill-opacity=\"0.898039\" stroke=\"black\" points=\"1160.49,-50 1048.41,-50 1048.41,-0 1160.49,-0 1160.49,-50\"/>\n",
       "<text text-anchor=\"middle\" x=\"1104.45\" y=\"-34.8\" font-family=\"Times,serif\" font-size=\"14.00\">samples = 261</text>\n",
       "<text text-anchor=\"middle\" x=\"1104.45\" y=\"-20.8\" font-family=\"Times,serif\" font-size=\"14.00\">value = [237, 24]</text>\n",
       "<text text-anchor=\"middle\" x=\"1104.45\" y=\"-6.8\" font-family=\"Times,serif\" font-size=\"14.00\">class = edible</text>\n",
       "</g>\n",
       "<!-- 27&#45;&gt;29 -->\n",
       "<g id=\"edge29\" class=\"edge\"><title>27&#45;&gt;29</title>\n",
       "<path fill=\"none\" stroke=\"black\" d=\"M1027.39,-85.9375C1039.65,-76.3993 1053.13,-65.9167 1065.33,-56.4219\"/>\n",
       "<polygon fill=\"black\" stroke=\"black\" points=\"1067.81,-58.9323 1073.55,-50.0301 1063.51,-53.4068 1067.81,-58.9323\"/>\n",
       "</g>\n",
       "<!-- 31 -->\n",
       "<g id=\"node32\" class=\"node\"><title>31</title>\n",
       "<polygon fill=\"#399de5\" fill-opacity=\"0.709804\" stroke=\"black\" points=\"1186.84,-250 1072.05,-250 1072.05,-186 1186.84,-186 1186.84,-250\"/>\n",
       "<text text-anchor=\"middle\" x=\"1129.45\" y=\"-234.8\" font-family=\"Times,serif\" font-size=\"14.00\">habitat &lt;= 1.5</text>\n",
       "<text text-anchor=\"middle\" x=\"1129.45\" y=\"-220.8\" font-family=\"Times,serif\" font-size=\"14.00\">samples = 420</text>\n",
       "<text text-anchor=\"middle\" x=\"1129.45\" y=\"-206.8\" font-family=\"Times,serif\" font-size=\"14.00\">value = [94, 326]</text>\n",
       "<text text-anchor=\"middle\" x=\"1129.45\" y=\"-192.8\" font-family=\"Times,serif\" font-size=\"14.00\">class = poisonous</text>\n",
       "</g>\n",
       "<!-- 30&#45;&gt;31 -->\n",
       "<g id=\"edge31\" class=\"edge\"><title>30&#45;&gt;31</title>\n",
       "<path fill=\"none\" stroke=\"black\" d=\"M1129.45,-285.992C1129.45,-277.859 1129.45,-268.959 1129.45,-260.378\"/>\n",
       "<polygon fill=\"black\" stroke=\"black\" points=\"1132.95,-260.142 1129.45,-250.142 1125.95,-260.142 1132.95,-260.142\"/>\n",
       "</g>\n",
       "<!-- 36 -->\n",
       "<g id=\"node37\" class=\"node\"><title>36</title>\n",
       "<polygon fill=\"#e58139\" stroke=\"black\" points=\"1303.49,-243 1205.41,-243 1205.41,-193 1303.49,-193 1303.49,-243\"/>\n",
       "<text text-anchor=\"middle\" x=\"1254.45\" y=\"-227.8\" font-family=\"Times,serif\" font-size=\"14.00\">samples = 74</text>\n",
       "<text text-anchor=\"middle\" x=\"1254.45\" y=\"-213.8\" font-family=\"Times,serif\" font-size=\"14.00\">value = [74, 0]</text>\n",
       "<text text-anchor=\"middle\" x=\"1254.45\" y=\"-199.8\" font-family=\"Times,serif\" font-size=\"14.00\">class = edible</text>\n",
       "</g>\n",
       "<!-- 30&#45;&gt;36 -->\n",
       "<g id=\"edge36\" class=\"edge\"><title>30&#45;&gt;36</title>\n",
       "<path fill=\"none\" stroke=\"black\" d=\"M1169,-285.992C1183.84,-274.353 1200.7,-261.141 1215.49,-249.544\"/>\n",
       "<polygon fill=\"black\" stroke=\"black\" points=\"1217.76,-252.212 1223.47,-243.288 1213.44,-246.703 1217.76,-252.212\"/>\n",
       "</g>\n",
       "<!-- 32 -->\n",
       "<g id=\"node33\" class=\"node\"><title>32</title>\n",
       "<polygon fill=\"#399de5\" stroke=\"black\" points=\"1185.84,-143 1071.05,-143 1071.05,-93 1185.84,-93 1185.84,-143\"/>\n",
       "<text text-anchor=\"middle\" x=\"1128.45\" y=\"-127.8\" font-family=\"Times,serif\" font-size=\"14.00\">samples = 218</text>\n",
       "<text text-anchor=\"middle\" x=\"1128.45\" y=\"-113.8\" font-family=\"Times,serif\" font-size=\"14.00\">value = [0, 218]</text>\n",
       "<text text-anchor=\"middle\" x=\"1128.45\" y=\"-99.8\" font-family=\"Times,serif\" font-size=\"14.00\">class = poisonous</text>\n",
       "</g>\n",
       "<!-- 31&#45;&gt;32 -->\n",
       "<g id=\"edge32\" class=\"edge\"><title>31&#45;&gt;32</title>\n",
       "<path fill=\"none\" stroke=\"black\" d=\"M1129.13,-185.992C1129.03,-175.646 1128.91,-164.057 1128.8,-153.465\"/>\n",
       "<polygon fill=\"black\" stroke=\"black\" points=\"1132.3,-153.251 1128.7,-143.288 1125.3,-153.323 1132.3,-153.251\"/>\n",
       "</g>\n",
       "<!-- 33 -->\n",
       "<g id=\"node34\" class=\"node\"><title>33</title>\n",
       "<polygon fill=\"#399de5\" fill-opacity=\"0.129412\" stroke=\"black\" points=\"1318.84,-150 1204.05,-150 1204.05,-86 1318.84,-86 1318.84,-150\"/>\n",
       "<text text-anchor=\"middle\" x=\"1261.45\" y=\"-134.8\" font-family=\"Times,serif\" font-size=\"14.00\">bruises &lt;= 0.5</text>\n",
       "<text text-anchor=\"middle\" x=\"1261.45\" y=\"-120.8\" font-family=\"Times,serif\" font-size=\"14.00\">samples = 202</text>\n",
       "<text text-anchor=\"middle\" x=\"1261.45\" y=\"-106.8\" font-family=\"Times,serif\" font-size=\"14.00\">value = [94, 108]</text>\n",
       "<text text-anchor=\"middle\" x=\"1261.45\" y=\"-92.8\" font-family=\"Times,serif\" font-size=\"14.00\">class = poisonous</text>\n",
       "</g>\n",
       "<!-- 31&#45;&gt;33 -->\n",
       "<g id=\"edge33\" class=\"edge\"><title>31&#45;&gt;33</title>\n",
       "<path fill=\"none\" stroke=\"black\" d=\"M1171.21,-185.992C1183.97,-176.519 1198.14,-166.004 1211.39,-156.165\"/>\n",
       "<polygon fill=\"black\" stroke=\"black\" points=\"1213.56,-158.914 1219.5,-150.142 1209.39,-153.293 1213.56,-158.914\"/>\n",
       "</g>\n",
       "<!-- 34 -->\n",
       "<g id=\"node35\" class=\"node\"><title>34</title>\n",
       "<polygon fill=\"#e58139\" fill-opacity=\"0.937255\" stroke=\"black\" points=\"1305.49,-50 1207.41,-50 1207.41,-0 1305.49,-0 1305.49,-50\"/>\n",
       "<text text-anchor=\"middle\" x=\"1256.45\" y=\"-34.8\" font-family=\"Times,serif\" font-size=\"14.00\">samples = 100</text>\n",
       "<text text-anchor=\"middle\" x=\"1256.45\" y=\"-20.8\" font-family=\"Times,serif\" font-size=\"14.00\">value = [94, 6]</text>\n",
       "<text text-anchor=\"middle\" x=\"1256.45\" y=\"-6.8\" font-family=\"Times,serif\" font-size=\"14.00\">class = edible</text>\n",
       "</g>\n",
       "<!-- 33&#45;&gt;34 -->\n",
       "<g id=\"edge34\" class=\"edge\"><title>33&#45;&gt;34</title>\n",
       "<path fill=\"none\" stroke=\"black\" d=\"M1259.74,-85.9375C1259.28,-77.5916 1258.78,-68.5226 1258.32,-60.025\"/>\n",
       "<polygon fill=\"black\" stroke=\"black\" points=\"1261.81,-59.823 1257.77,-50.0301 1254.82,-60.2071 1261.81,-59.823\"/>\n",
       "</g>\n",
       "<!-- 35 -->\n",
       "<g id=\"node36\" class=\"node\"><title>35</title>\n",
       "<polygon fill=\"#399de5\" stroke=\"black\" points=\"1438.84,-50 1324.05,-50 1324.05,-0 1438.84,-0 1438.84,-50\"/>\n",
       "<text text-anchor=\"middle\" x=\"1381.45\" y=\"-34.8\" font-family=\"Times,serif\" font-size=\"14.00\">samples = 102</text>\n",
       "<text text-anchor=\"middle\" x=\"1381.45\" y=\"-20.8\" font-family=\"Times,serif\" font-size=\"14.00\">value = [0, 102]</text>\n",
       "<text text-anchor=\"middle\" x=\"1381.45\" y=\"-6.8\" font-family=\"Times,serif\" font-size=\"14.00\">class = poisonous</text>\n",
       "</g>\n",
       "<!-- 33&#45;&gt;35 -->\n",
       "<g id=\"edge35\" class=\"edge\"><title>33&#45;&gt;35</title>\n",
       "<path fill=\"none\" stroke=\"black\" d=\"M1302.41,-85.9375C1315.11,-76.3076 1329.08,-65.7151 1341.69,-56.1483\"/>\n",
       "<polygon fill=\"black\" stroke=\"black\" points=\"1343.91,-58.8613 1349.76,-50.0301 1339.68,-53.2837 1343.91,-58.8613\"/>\n",
       "</g>\n",
       "</g>\n",
       "</svg>\n"
      ],
      "text/plain": [
       "<graphviz.files.Source at 0x11454add8>"
      ]
     },
     "execution_count": 165,
     "metadata": {},
     "output_type": "execute_result"
    }
   ],
   "source": [
    "graph"
   ]
  },
  {
   "cell_type": "markdown",
   "metadata": {
    "collapsed": true
   },
   "source": [
    "##### Feature importance using Random Forest"
   ]
  },
  {
   "cell_type": "code",
   "execution_count": 205,
   "metadata": {},
   "outputs": [
    {
     "name": "stdout",
     "output_type": "stream",
     "text": [
      "The test error for Random Forest Classfifier is  1.0\n"
     ]
    }
   ],
   "source": [
    "model_rf = RandomForestClassifier(n_estimators=10,\n",
    "                                  criterion='gini',\n",
    "                                  random_state=10)\n",
    "\n",
    "model_rf.fit(X_train, y_train)\n",
    "print(\"The test error for Random Forest Classfifier is \",model_rf.score(X_test, y_test))"
   ]
  },
  {
   "cell_type": "code",
   "execution_count": 206,
   "metadata": {
    "collapsed": true
   },
   "outputs": [],
   "source": [
    "rf_features = model_rf.feature_importances_"
   ]
  },
  {
   "cell_type": "code",
   "execution_count": 207,
   "metadata": {
    "collapsed": true
   },
   "outputs": [],
   "source": [
    "rf_features\n",
    "df = pd.DataFrame(rf_features)"
   ]
  },
  {
   "cell_type": "code",
   "execution_count": 208,
   "metadata": {},
   "outputs": [],
   "source": [
    "df.index = np.arange(1, len(df) + 1)\n",
    "\n",
    "featurenames = df_mushrooms.columns\n",
    "featurenames = pd.DataFrame(df_mushrooms.columns)\n",
    "featurenames.drop(featurenames.head(1).index, inplace=True)\n",
    "\n",
    "dfnew = pd.concat([featurenames, df], axis=1)\n",
    "dfnew.columns = ['featurenames', 'weight']\n",
    "dfsorted = dfnew.sort_values(['weight'], ascending=[False])\n",
    "dfsorted.head()\n",
    "dfsorted.to_csv(\"../results/df_sorted.csv\", encoding='utf-8', index=False)"
   ]
  },
  {
   "cell_type": "code",
   "execution_count": 172,
   "metadata": {},
   "outputs": [
    {
     "data": {
      "image/png": "[encoded data removed]",
      "text/plain": [
       "<matplotlib.figure.Figure at 0x1145f46d8>"
      ]
     },
     "metadata": {},
     "output_type": "display_data"
    }
   ],
   "source": [
    "#sns.set(style=\"whitegrid\")\n",
    "plt.figure(figsize=(15,10))\n",
    "plt.tick_params(labelsize=12)\n",
    "sns.barplot(x=dfsorted['featurenames'], y=dfsorted['weight'])\n",
    "plt.ylabel('Importance')\n",
    "plt.xlabel('Feature')\n",
    "plt.title('Feature Importance usign Random Forest')\n",
    "for item in plt.gca().xaxis.get_ticklabels():\n",
    "    item.set_rotation(90)\n",
    "\n",
    "plt.savefig('../results/feature_imp_rf.png')"
   ]
  },
  {
   "cell_type": "markdown",
   "metadata": {},
   "source": [
    ">* From this feature importance tree, it looks like odor gill size and gill color are top 2 factors which play a very important role in identifying if a mushroom is poisonous or edible. So, do smell the mushroom when foraging in the forest!"
   ]
  },
  {
   "cell_type": "markdown",
   "metadata": {},
   "source": [
    "##### Logistic Regression with L1 and L2 regularization "
   ]
  },
  {
   "cell_type": "markdown",
   "metadata": {},
   "source": [
    "Although when I used batch classifiers, Decision tree, random forest and linear svm gave me really good results, I will try to perform L1 and L2 regularization to se if anything changes."
   ]
  },
  {
   "cell_type": "markdown",
   "metadata": {},
   "source": [
    "###### L1 regularization"
   ]
  },
  {
   "cell_type": "code",
   "execution_count": 101,
   "metadata": {},
   "outputs": [
    {
     "name": "stdout",
     "output_type": "stream",
     "text": [
      "The best value of C for L1 is  {'C': 1.3000000000000003}\n",
      "The score using best value of C for L1 is  0.94469062859\n"
     ]
    }
   ],
   "source": [
    "C_range = np.arange(1,3,0.1)\n",
    "param_grid = dict(C=C_range)\n",
    "lasso = LogisticRegression(penalty='l1',C=C_range)\n",
    "model_lasso = GridSearchCV(lasso, param_grid)\n",
    "model_lasso.fit(X_train, y_train) \n",
    "print(\"The best value of C for L1 is \",model_lasso.best_params_)\n",
    "print(\"The score using best value of C for L1 is \",model_lasso.best_score_)"
   ]
  },
  {
   "cell_type": "markdown",
   "metadata": {},
   "source": [
    "##### Here we can see that the optimal value of C for L1 is 1.3. let us use that to fit and train the model now"
   ]
  },
  {
   "cell_type": "code",
   "execution_count": 215,
   "metadata": {},
   "outputs": [
    {
     "name": "stdout",
     "output_type": "stream",
     "text": [
      "Number of selected fetaures for L1 is  20\n",
      "The validation error for L1 is  0.055145248646\n"
     ]
    }
   ],
   "source": [
    "model_l1 = LogisticRegression(penalty='l1',C=1.3)\n",
    "model_l1 = model_l1.fit(X_train, y_train)\n",
    "#Number of selected features\n",
    "#Using 1e-06 as the threshold to select a feature\n",
    "print(\"Number of selected fetaures for L1 is \",np.sum(abs(model_l1.coef_)>1e-06))\n",
    "# Validation error\n",
    "# Validation error\n",
    "print(\"The validation error for L1 is \",1-model_l1.score(X_test, y_test))"
   ]
  },
  {
   "cell_type": "code",
   "execution_count": 217,
   "metadata": {},
   "outputs": [
    {
     "data": {
      "image/png": "[encoded data removed]",
      "text/plain": [
       "<matplotlib.figure.Figure at 0x1152edeb8>"
      ]
     },
     "metadata": {},
     "output_type": "display_data"
    }
   ],
   "source": [
    "plt.figure(figsize=(15,10))\n",
    "plt.tick_params(labelsize=12)\n",
    "coefs = pd.Series(np.absolute(model_l1.coef_[0]), index=features.columns)\n",
    "coefs = coefs.sort_values()\n",
    "(coefs/np.max(coefs)).plot(kind=\"bar\")\n",
    "plt.ylabel('Normalized model parameter')\n",
    "plt.title(\"Feature importance using L1 regularization\")\n",
    "plt.savefig('../results/feature_imp_lasso.png')"
   ]
  },
  {
   "cell_type": "markdown",
   "metadata": {},
   "source": [
    "###### L2 regularization"
   ]
  },
  {
   "cell_type": "code",
   "execution_count": 213,
   "metadata": {},
   "outputs": [
    {
     "name": "stdout",
     "output_type": "stream",
     "text": [
      "The best value of C for L2  is  {'C': 1.0}\n",
      "The score using best value of C for L2 is  0.945675365173\n"
     ]
    }
   ],
   "source": [
    "C_range = np.arange(1,3,0.1)\n",
    "param_grid = dict(C=C_range)\n",
    "ridge = LogisticRegression(penalty='l2',C=C_range)\n",
    "model_ridge = GridSearchCV(ridge, param_grid)\n",
    "model_ridge.fit(X_train, y_train) \n",
    "print(\"The best value of C for L2  is \",model_ridge.best_params_)\n",
    "print(\"The score using best value of C for L2 is \",model_ridge.best_score_)"
   ]
  },
  {
   "cell_type": "markdown",
   "metadata": {},
   "source": [
    "##### Here we can see that the optimal value of C  for L2 is 1. let us use that to fit and train the model now"
   ]
  },
  {
   "cell_type": "code",
   "execution_count": 188,
   "metadata": {},
   "outputs": [
    {
     "name": "stdout",
     "output_type": "stream",
     "text": [
      "Number of selected fetaures for L2 is  20\n",
      "The validation error for L2 is  0.0531757754801\n"
     ]
    }
   ],
   "source": [
    "model_l2 = LogisticRegression(penalty='l2',C=1)\n",
    "model_l2 = model_l2.fit(X_train, y_train)\n",
    "#Number of selected features\n",
    "#Using 1e-06 as the threshold to select a feature\n",
    "print(\"Number of selected fetaures for L2 is \",np.sum(abs(model_l2.coef_)>1e-06))\n",
    "# Validation error\n",
    "print(\"The validation error for L2 is \",1-model_l2.score(X_test, y_test))"
   ]
  },
  {
   "cell_type": "code",
   "execution_count": 214,
   "metadata": {},
   "outputs": [
    {
     "data": {
      "image/png": "[encoded data removed]",
      "text/plain": [
       "<matplotlib.figure.Figure at 0x115b08780>"
      ]
     },
     "metadata": {},
     "output_type": "display_data"
    }
   ],
   "source": [
    "plt.figure(figsize=(15,10))\n",
    "plt.tick_params(labelsize=12)\n",
    "coefs = pd.Series(np.absolute(model_l2.coef_[0]), index=features.columns)\n",
    "coefs = coefs.sort_values()\n",
    "(coefs/np.max(coefs)).plot(kind=\"bar\")\n",
    "plt.ylabel('Normalized model parameter')\n",
    "plt.title(\"Feature importance using L2 regularization\")\n",
    "plt.savefig('../results/feature_imp_l2.png')"
   ]
  },
  {
   "cell_type": "markdown",
   "metadata": {},
   "source": [
    "##### Feature selection"
   ]
  },
  {
   "cell_type": "code",
   "execution_count": 192,
   "metadata": {},
   "outputs": [
    {
     "name": "stdout",
     "output_type": "stream",
     "text": [
      "Training error:   0.0655\n",
      "Validation error: 0.0658\n"
     ]
    }
   ],
   "source": [
    "def fit_and_report(model, X, y, Xv, yv):\n",
    "    model.fit(X,y)\n",
    "    mean_squared_err = lambda y, yhat: np.mean((y-yhat)**2)\n",
    "    errors = [mean_squared_err(y, model.predict(X)), mean_squared_err(yv, model.predict(Xv))]\n",
    "    return errors\n",
    "\n",
    "rfe = RFE(estimator = Ridge(), n_features_to_select = 20)\n",
    "rfe.fit(X_train, y_train)\n",
    "rfe.score(X_test,y_test)\n",
    "X_train_sel = X_train.iloc[:, rfe.support_]\n",
    "X_test_sel = X_test.iloc[:, rfe.support_]\n",
    "\n",
    "errs = fit_and_report(LinearRegression(), X_train_sel, y_train, X_test_sel, y_test)\n",
    "\n",
    "print(\"Training error:   %.3g\" % errs[0])\n",
    "print(\"Validation error: %.3g\" % errs[1])"
   ]
  },
  {
   "cell_type": "markdown",
   "metadata": {},
   "source": [
    "##### RFE with 20 selected features from Ridge model\n",
    "\n",
    "| Data | Error | \n",
    "|------|-------|\n",
    "|  Train set     | 0.0655  |\n",
    "|  Test set     | 0.0658  |"
   ]
  },
  {
   "cell_type": "code",
   "execution_count": 193,
   "metadata": {},
   "outputs": [
    {
     "name": "stdout",
     "output_type": "stream",
     "text": [
      "Training error:   0.0655\n",
      "Validation error: 0.0659\n"
     ]
    }
   ],
   "source": [
    "def fit_and_report(model, X, y, Xv, yv):\n",
    "    model.fit(X,y)\n",
    "    mean_squared_err = lambda y, yhat: np.mean((y-yhat)**2)\n",
    "    errors = [mean_squared_err(y, model.predict(X)), mean_squared_err(yv, model.predict(Xv))]\n",
    "    return errors\n",
    "\n",
    "rfe = RFE(estimator = Lasso(), n_features_to_select = 20)\n",
    "rfe.fit(X_train, y_train)\n",
    "rfe.score(X_test,y_test)\n",
    "X_train_sel = X_train.iloc[:, rfe.support_]\n",
    "X_test_sel = X_test.iloc[:, rfe.support_]\n",
    "\n",
    "errs = fit_and_report(LinearRegression(), X_train_sel, y_train, X_test_sel, y_test)\n",
    "\n",
    "print(\"Training error:   %.3g\" % errs[0])\n",
    "print(\"Validation error: %.3g\" % errs[1])"
   ]
  },
  {
   "cell_type": "markdown",
   "metadata": {},
   "source": [
    "##### RFE with 20 selected features from Lasso model\n",
    "\n",
    "| Data | Error | \n",
    "|------|-------|\n",
    "|  Train set     | 0.0655  |\n",
    "|  Test set     | 0.0659  |"
   ]
  },
  {
   "cell_type": "code",
   "execution_count": 219,
   "metadata": {},
   "outputs": [
    {
     "data": {
      "image/png": "[encoded data removed]",
      "text/plain": [
       "<matplotlib.figure.Figure at 0x1153de6d8>"
      ]
     },
     "metadata": {},
     "output_type": "display_data"
    }
   ],
   "source": [
    "trainer = list()\n",
    "valerr = list()\n",
    "\n",
    "# make an array of the number of features to sweep through\n",
    "#feats = np.array([5,10,15,20,22])\n",
    "feats = np.arange(1,23,3)\n",
    "\n",
    "# loop over the features, and fit the model each time\n",
    "# also calculate train and test error\n",
    "for f in feats:\n",
    "    rfe = RFE(estimator = Ridge(), n_features_to_select = f)\n",
    "    rfe.fit(X_train, y_train)\n",
    "    X_train_sel = X_train.iloc[:,rfe.support_]\n",
    "    X_test_sel = X_test.iloc[:,rfe.support_]\n",
    "    \n",
    "    errs = fit_and_report(LinearRegression(), X_train_sel, y_train, X_test_sel, y_test)\n",
    "    \n",
    "    trainer.append(errs[0])\n",
    "    valerr.append(errs[1])\n",
    "\n",
    "    # plot validation loss\n",
    "plt.plot(feats, trainer,'--r', label=\"train\", linewidth=2)\n",
    "plt.plot(feats, valerr,'--b', label=\"test\", linewidth=2)\n",
    "plt.xlabel(\"feats\")\n",
    "plt.ylabel(\"error\")\n",
    "plt.legend()\n",
    "plt.savefig('../results/ridge_feat.png')\n"
   ]
  },
  {
   "cell_type": "code",
   "execution_count": 218,
   "metadata": {},
   "outputs": [
    {
     "name": "stdout",
     "output_type": "stream",
     "text": [
      "Training error:   0.0679\n",
      "Validation error: 0.0681\n"
     ]
    }
   ],
   "source": [
    "def fit_and_report(model, X, y, Xv, yv):\n",
    "    model.fit(X,y)\n",
    "    mean_squared_err = lambda y, yhat: np.mean((y-yhat)**2)\n",
    "    errors = [mean_squared_err(y, model.predict(X)), mean_squared_err(yv, model.predict(Xv))]\n",
    "    return errors\n",
    "\n",
    "rfe = RFE(estimator = Ridge(), n_features_to_select = 10)\n",
    "rfe.fit(X_train, y_train)\n",
    "rfe.score(X_test,y_test)\n",
    "X_train_sel = X_train.iloc[:, rfe.support_]\n",
    "X_test_sel = X_test.iloc[:, rfe.support_]\n",
    "\n",
    "errs = fit_and_report(LinearRegression(), X_train_sel, y_train, X_test_sel, y_test)\n",
    "\n",
    "print(\"Training error:   %.3g\" % errs[0])\n",
    "print(\"Validation error: %.3g\" % errs[1])"
   ]
  },
  {
   "cell_type": "code",
   "execution_count": null,
   "metadata": {
    "collapsed": true
   },
   "outputs": [],
   "source": []
  }
 ],
 "metadata": {
  "kernelspec": {
   "display_name": "Python 3",
   "language": "python",
   "name": "python3"
  },
  "language_info": {
   "codemirror_mode": {
    "name": "ipython",
    "version": 3
   },
   "file_extension": ".py",
   "mimetype": "text/x-python",
   "name": "python",
   "nbconvert_exporter": "python",
   "pygments_lexer": "ipython3",
   "version": "3.6.3"
  }
 },
 "nbformat": 4,
 "nbformat_minor": 2
}
